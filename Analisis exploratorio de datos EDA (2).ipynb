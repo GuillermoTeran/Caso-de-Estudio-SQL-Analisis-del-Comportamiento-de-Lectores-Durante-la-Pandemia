{
 "cells": [
  {
   "cell_type": "markdown",
   "metadata": {},
   "source": [
    "# ¡Hola Guillermo!\n",
    "\n",
    "Mi nombre es Ezequiel Ferrario, soy code reviewer en Tripleten y tengo el agrado de revisar el proyecto que entregaste.\n",
    "\n",
    "Para simular la dinámica de un ambiente de trabajo, si veo algún error, en primer instancia solo los señalaré, dándote la oportunidad de encontrarlos y corregirlos por tu cuenta. En un trabajo real, el líder de tu equipo hará una dinámica similar. En caso de que no puedas resolver la tarea, te daré una información más precisa en la próxima revisión.\n",
    "\n",
    "Encontrarás mis comentarios más abajo - **por favor, no los muevas, no los modifiques ni los borres**.\n",
    "\n",
    "¿Cómo lo voy a hacer? Voy a leer detenidamente cada una de las implementaciones que has llevado a cabo para cumplir con lo solicitado. Verás los comentarios de esta forma:\n",
    "\n",
    "\n",
    "<div class=\"alert alert-block alert-success\">\n",
    "<b>Comentario del revisor</b> <a class=\"tocSkip\"></a>\n",
    "\n",
    "Si todo está perfecto.\n",
    "</div>\n",
    "\n",
    "\n",
    "<div class=\"alert alert-block alert-warning\">\n",
    "<b>Comentario del revisor</b> <a class=\"tocSkip\"></a>\n",
    "\n",
    "Si tu código está bien pero se puede mejorar o hay algún detalle que le hace falta. Se aceptan uno o dos comentarios de este tipo en el borrador, pero si hay más, deberá hacer las correcciones. Es como una tarea de prueba al solicitar un trabajo: muchos pequeños errores pueden hacer que un candidato sea rechazado.\n",
    "</div>\n",
    "\n",
    "<div class=\"alert alert-block alert-danger\">\n",
    "\n",
    "<b>Comentario del revisor</b> <a class=\"tocSkip\"></a>\n",
    "\n",
    "Si de pronto hace falta algo o existe algún problema con tu código o conclusiones.\n",
    "</div>\n",
    "\n",
    "Puedes responderme de esta forma:\n",
    "\n",
    "<div class=\"alert alert-block alert-info\">\n",
    "<b>Respuesta del estudiante</b> <a class=\"tocSkip\"></a>\n",
    "\n",
    "Hola, muchas gracias por tus comentarios y la revisión.        \n",
    "</div>\n",
    "\n",
    "¡Empecemos!"
   ]
  },
  {
   "cell_type": "markdown",
   "metadata": {},
   "source": [
    "--------\n",
    "\n",
    "\n",
    "\n",
    "<div class=\"alert alert-block alert-danger\">\n",
    "\n",
    "<b>Comentario general #1</b> <a class=\"tocSkip\"></a>\n",
    "\n",
    "Guillermo, hiciste un muy buen proyecto aqui.\n",
    "\n",
    "Entendiste como hacer cada punto, donde utilizaste los metodos correctos tanto para extraer la informacion como para generar los graficos.\n",
    "\n",
    "Destaco tus conclusiones que fueron claras y agregaron valor al proyecto.\n",
    "\n",
    "Asi, restan detalles por corregir.\n",
    "\n",
    "Espero tu correccion, saludos.\n",
    "</div>\n",
    "\n",
    "----\n",
    "\n",
    "\n",
    "<div class=\"alert alert-block alert-success\">\n",
    "\n",
    "<b>Comentario general #2</b> <a class=\"tocSkip\"></a>\n",
    "\n",
    "Guillermo, las correcciones han sido perfectas.\n",
    "    \n",
    "  Generaste nuevos graficos como asi tambien las conclusiones fueron perfectas.\n",
    "    \n",
    "  Con esto nuevo agregaste valor a todo el trabajo y me gusto que hayas ido mas alla.\n",
    "    \n",
    "  Dicho esto, este excelente proyecto pasa a estar **aprobado**.\n",
    "    \n",
    "  Exitos en lo que viene, saludos..</div>\n",
    "\n",
    "\n",
    "---------"
   ]
  },
  {
   "cell_type": "markdown",
   "metadata": {},
   "source": [
    "<div class=\"alert alert-block alert-danger\">\n",
    "\n",
    "<b>Comentario del revisor</b> <a class=\"tocSkip\"></a>\n",
    "\n",
    "Hace una tabla de contenidos que este  linkeada a las secciones (al clickear debe llevarnos a esa seccion) de esta manera es mas facil desplazarse.\n",
    "\n",
    "Como consejo, si realizas bien todas las secciones (con su respectivo #) podes generarlo automáticamente desde jupyter lab. Para hacerlo, en la pestaña de herramientas de jupyter lab clickeas en el **botón de los puntos y barras**  (Table of contents) te generara automáticamente una tabla de contenidos linkeable y estética. A la **derecha** del seleccionador del tipo de celda (code/markdown)</div>\n",
    "\n",
    "<div class=\"alert alert-block alert-danger\">\n",
    "\n",
    "<b>Comentario del revisor</b> <a class=\"tocSkip\"></a>\n",
    "\n",
    "Guillermo, recorda realizar una introduccion al proyecto, explicando los objetivos y explicando de que se trata. Esto es muy importante de hacer para asentar las bases del proyecto, ademas de dejar en claro que se busca. A partir de una mirada a la introduccion ya entenderemos que buscamos con el proyecto.</div>\n",
    "\n",
    "<div class=\"alert alert-block alert-success\">\n",
    "\n",
    "<b>Comentario del revisor #2</b> <a class=\"tocSkip\"></a>\n",
    "\n",
    "Corregido, muy bien.</div>"
   ]
  },
  {
   "cell_type": "markdown",
   "metadata": {},
   "source": [
    "## Introducción\n",
    "\n",
    "El siguiente proyecto tiene por objetivo realizar un análisis del mercado de compañias de taxis en Chicago segmentado por barrios y determinar la influencia del clima (días lluviosos vs días soleados) en la frecuencia de contratar el servicio por parte de los usuarios y para esto se toma como muestra la relación que existe en el servicio contratado los días sábados entre el barrio Loop y O'Hare (Aeropuerto Internacional de Chicago). Para esto se dispone de la siguiente información compañías de taxis que operan en la ciudad, total de viajes realizados por cada compañía, barrios que pertenecen a la ciudad de Chicago, viajes realizados a cada barrio por dia y tiempo de duración. (tomando como punto de finalizacion el barrio en que termino cada viaje)\n",
    "\n",
    "Para la conclusión final a realizar sobre la muestra se va a practicar una prueba de hipótesis Student T que mide la relación que existe entre las medias obtenidas de los viajes realizados los días sábados diferenciando entre días lluviosos y soleados con lo cual se aceptara o rechazara la hipótesis nula planteada."
   ]
  },
  {
   "cell_type": "markdown",
   "metadata": {},
   "source": [
    "## 1  Análisis exploratorio de datos (Python)"
   ]
  },
  {
   "cell_type": "markdown",
   "metadata": {},
   "source": [
    "## 1.1 Importacion y carga de los datos"
   ]
  },
  {
   "cell_type": "code",
   "execution_count": 1,
   "metadata": {},
   "outputs": [],
   "source": [
    "import pandas as pd\n",
    "import numpy as np\n",
    "import matplotlib.pyplot as plt\n",
    "import seaborn as sns\n",
    "import scipy as sp\n",
    "from scipy import stats\n",
    "from scipy.stats import ttest_ind"
   ]
  },
  {
   "cell_type": "markdown",
   "metadata": {},
   "source": [
    "Importo las librerias que se van a utilizar"
   ]
  },
  {
   "cell_type": "code",
   "execution_count": 2,
   "metadata": {},
   "outputs": [],
   "source": [
    "# Cargar datos de las compañías de taxis\n",
    "df_taxi = pd.read_csv('/datasets/project_sql_result_01.csv')\n",
    "\n",
    "# Cargar datos de los barrios\n",
    "df_neighborhoods = pd.read_csv('/datasets/project_sql_result_04.csv')\n",
    "\n",
    "# Cargar datos de los viajes desde Loop hasta O´Hare\n",
    "df_trips_loop_ohare = pd.read_csv('/datasets/project_sql_result_07.csv')"
   ]
  },
  {
   "cell_type": "markdown",
   "metadata": {},
   "source": [
    "Importo los datos "
   ]
  },
  {
   "cell_type": "markdown",
   "metadata": {},
   "source": [
    "<div class=\"alert alert-block alert-danger\">\n",
    "\n",
    "<b>Comentario del revisor</b> <a class=\"tocSkip\"></a>\n",
    "\n",
    "Crea una seccion (Con #) que haga referencia a la exploracion inicial de datos, asi queda clara cada seccion del proyecto.</div>\n",
    "\n",
    "\n",
    "<div class=\"alert alert-block alert-success\">\n",
    "\n",
    "<b>Comentario del revisor #2</b> <a class=\"tocSkip\"></a>\n",
    "\n",
    "Corregido, perfecto.</div>"
   ]
  },
  {
   "cell_type": "markdown",
   "metadata": {},
   "source": [
    "## 1.2 Revisión de la estructura y tipos de datos"
   ]
  },
  {
   "cell_type": "code",
   "execution_count": 3,
   "metadata": {},
   "outputs": [
    {
     "name": "stdout",
     "output_type": "stream",
     "text": [
      "                      company_name  trips_amount\n",
      "0                        Flash Cab         19558\n",
      "1        Taxi Affiliation Services         11422\n",
      "2                Medallion Leasing         10367\n",
      "3                       Yellow Cab          9888\n",
      "4  Taxi Affiliation Service Yellow          9299\n",
      "  dropoff_location_name  average_trips\n",
      "0                  Loop   10727.466667\n",
      "1           River North    9523.666667\n",
      "2         Streeterville    6664.666667\n",
      "3             West Loop    5163.666667\n",
      "4                O'Hare    2546.900000\n",
      "<class 'pandas.core.frame.DataFrame'>\n",
      "RangeIndex: 64 entries, 0 to 63\n",
      "Data columns (total 2 columns):\n",
      " #   Column        Non-Null Count  Dtype \n",
      "---  ------        --------------  ----- \n",
      " 0   company_name  64 non-null     object\n",
      " 1   trips_amount  64 non-null     int64 \n",
      "dtypes: int64(1), object(1)\n",
      "memory usage: 1.1+ KB\n",
      "None\n",
      "<class 'pandas.core.frame.DataFrame'>\n",
      "RangeIndex: 94 entries, 0 to 93\n",
      "Data columns (total 2 columns):\n",
      " #   Column                 Non-Null Count  Dtype  \n",
      "---  ------                 --------------  -----  \n",
      " 0   dropoff_location_name  94 non-null     object \n",
      " 1   average_trips          94 non-null     float64\n",
      "dtypes: float64(1), object(1)\n",
      "memory usage: 1.6+ KB\n",
      "None\n"
     ]
    }
   ],
   "source": [
    "# Verificar las primeras filas\n",
    "print(df_taxi.head())\n",
    "print(df_neighborhoods.head())\n",
    "\n",
    "# Verificar tipos de datos y valores nulos\n",
    "print(df_taxi.info())\n",
    "print(df_neighborhoods.info())"
   ]
  },
  {
   "cell_type": "markdown",
   "metadata": {},
   "source": [
    "## 1.3 Verificación de valores ausentes NAN"
   ]
  },
  {
   "cell_type": "code",
   "execution_count": 4,
   "metadata": {},
   "outputs": [
    {
     "name": "stdout",
     "output_type": "stream",
     "text": [
      "company_name    0\n",
      "trips_amount    0\n",
      "dtype: int64\n",
      "\n",
      "dropoff_location_name    0\n",
      "average_trips            0\n",
      "dtype: int64\n"
     ]
    }
   ],
   "source": [
    "# Verificar valores ausentes NAN\n",
    "print(df_taxi.isna().sum())\n",
    "print()\n",
    "print(df_neighborhoods.isna().sum())"
   ]
  },
  {
   "cell_type": "markdown",
   "metadata": {},
   "source": [
    "Compruebo el tipo de datos que sean correctos y que no existan valores ausentes NAN"
   ]
  },
  {
   "cell_type": "markdown",
   "metadata": {},
   "source": [
    "## 1.4 Creación de una copia de los datos originales para realizar operaciones matemáticas y gráficos"
   ]
  },
  {
   "cell_type": "code",
   "execution_count": 5,
   "metadata": {},
   "outputs": [],
   "source": [
    "# Crear una copia del dataframe original para realizar los cambios y calculos \n",
    "df_taxi_copy = df_taxi.copy()\n",
    "df_neighborhoods_copy = df_neighborhoods.copy()"
   ]
  },
  {
   "cell_type": "markdown",
   "metadata": {},
   "source": [
    "Creo una copia del dataframe orginal para realizar calculos y mntengo la informacion original en caso de necesitar mas adelante"
   ]
  },
  {
   "cell_type": "markdown",
   "metadata": {},
   "source": [
    "## 1.5 Verificación de filas duplicadas"
   ]
  },
  {
   "cell_type": "code",
   "execution_count": 6,
   "metadata": {},
   "outputs": [
    {
     "name": "stdout",
     "output_type": "stream",
     "text": [
      "Empty DataFrame\n",
      "Columns: [company_name, trips_amount]\n",
      "Index: []\n",
      "Empty DataFrame\n",
      "Columns: [dropoff_location_name, average_trips]\n",
      "Index: []\n"
     ]
    }
   ],
   "source": [
    "# Cambiar a mayusculas \n",
    "df_taxi_copy['company_name'] = df_taxi_copy['company_name'].str.upper()\n",
    "\n",
    "# Verificar si hay filas duplicadas\n",
    "duplicated_rows_taxi = df_taxi_copy[df_taxi_copy.duplicated()]\n",
    "print(duplicated_rows_taxi)\n",
    "\n",
    "# Cambiar a mayusculas \n",
    "df_neighborhoods_copy['dropoff_location_name'] = df_neighborhoods_copy['dropoff_location_name'].str.upper()\n",
    "\n",
    "# Verificar si hay filas duplicadas\n",
    "duplicated_rows_neighborhoods = df_neighborhoods_copy[df_neighborhoods_copy.duplicated()]\n",
    "print(duplicated_rows_neighborhoods)"
   ]
  },
  {
   "cell_type": "markdown",
   "metadata": {},
   "source": [
    "Verifico que no existan filas duplicadas"
   ]
  },
  {
   "cell_type": "markdown",
   "metadata": {},
   "source": [
    "## 1.6 Filtro Top 10 compañías de taxis"
   ]
  },
  {
   "cell_type": "code",
   "execution_count": 7,
   "metadata": {},
   "outputs": [
    {
     "name": "stdout",
     "output_type": "stream",
     "text": [
      "                        company_name  trips_amount\n",
      "0                          FLASH CAB         19558\n",
      "1          TAXI AFFILIATION SERVICES         11422\n",
      "2                  MEDALLION LEASING         10367\n",
      "3                         YELLOW CAB          9888\n",
      "4    TAXI AFFILIATION SERVICE YELLOW          9299\n",
      "5          CHICAGO CARRIAGE CAB CORP          9181\n",
      "6                       CITY SERVICE          8448\n",
      "7                           SUN TAXI          7701\n",
      "8          STAR NORTH MANAGEMENT LLC          7455\n",
      "9  BLUE RIBBON TAXI ASSOCIATION INC.          5953\n"
     ]
    }
   ],
   "source": [
    "# Identificar las 10 compañias principales \n",
    "top_10_taxi = df_taxi_copy.nlargest(10, 'trips_amount')\n",
    "print(top_10_taxi)"
   ]
  },
  {
   "cell_type": "code",
   "execution_count": 8,
   "metadata": {},
   "outputs": [
    {
     "name": "stdout",
     "output_type": "stream",
     "text": [
      "trips_amount    9927.2\n",
      "dtype: float64\n"
     ]
    }
   ],
   "source": [
    "print(top_10_taxi.mean())"
   ]
  },
  {
   "cell_type": "markdown",
   "metadata": {},
   "source": [
    "Identifico las 10 principales compañias que mas recorridos realizaron entre el 15 y 16 de Noviembre"
   ]
  },
  {
   "cell_type": "code",
   "execution_count": 9,
   "metadata": {},
   "outputs": [
    {
     "name": "stdout",
     "output_type": "stream",
     "text": [
      "Number of unique companies: 64\n"
     ]
    }
   ],
   "source": [
    "# Contar valores únicos en la columna 'company_name'\n",
    "unique_companies = df_taxi_copy['company_name'].nunique()\n",
    "\n",
    "print(f\"Number of unique companies: {unique_companies}\")"
   ]
  },
  {
   "cell_type": "markdown",
   "metadata": {},
   "source": [
    "## 1.7 Visualiación de todas las compañías de taxis (tabla dinámica)"
   ]
  },
  {
   "cell_type": "markdown",
   "metadata": {},
   "source": [
    "<div class=\"alert alert-block alert-danger\">\n",
    "\n",
    "<b>Comentario del revisor</b> <a class=\"tocSkip\"></a>\n",
    "\n",
    "Crea una seccion (Con #) que haga referencia a la creacion de graficos del top 10 tanto de barrios como de compañias, esto es importante para la estructura del proyecto ya que asi queda clara cada seccion del mismo.</div>\n",
    "\n",
    "\n",
    "<div class=\"alert alert-block alert-success\">\n",
    "\n",
    "<b>Comentario del revisor #2</b> <a class=\"tocSkip\"></a>\n",
    "\n",
    "Corregido.</div>"
   ]
  },
  {
   "cell_type": "code",
   "execution_count": 10,
   "metadata": {},
   "outputs": [
    {
     "name": "stdout",
     "output_type": "stream",
     "text": [
      "                                         trips_amount\n",
      "company_name                                         \n",
      "FLASH CAB                                       19558\n",
      "TAXI AFFILIATION SERVICES                       11422\n",
      "MEDALLION LEASING                               10367\n",
      "YELLOW CAB                                       9888\n",
      "TAXI AFFILIATION SERVICE YELLOW                  9299\n",
      "CHICAGO CARRIAGE CAB CORP                        9181\n",
      "CITY SERVICE                                     8448\n",
      "SUN TAXI                                         7701\n",
      "STAR NORTH MANAGEMENT LLC                        7455\n",
      "BLUE RIBBON TAXI ASSOCIATION INC.                5953\n",
      "CHOICE TAXI ASSOCIATION                          5015\n",
      "GLOBE TAXI                                       4383\n",
      "DISPATCH TAXI AFFILIATION                        3355\n",
      "NOVA TAXI AFFILIATION LLC                        3175\n",
      "PATRIOT TAXI DBA PEACE TAXI ASSOCIATION          2235\n",
      "CHECKER TAXI AFFILIATION                         2216\n",
      "BLUE DIAMOND                                     2070\n",
      "CHICAGO MEDALLION MANAGEMENT                     1955\n",
      "24 SEVEN TAXI                                    1775\n",
      "CHICAGO MEDALLION LEASING INC                    1607\n",
      "CHECKER TAXI                                     1486\n",
      "AMERICAN UNITED                                  1404\n",
      "CHICAGO INDEPENDENTS                             1296\n",
      "KOAM TAXI ASSOCIATION                            1259\n",
      "CHICAGO TAXICAB                                  1014\n",
      "TOP CAB AFFILIATION                               978\n",
      "GOLD COAST TAXI                                   428\n",
      "SERVICE TAXI ASSOCIATION                          402\n",
      "5 STAR TAXI                                       310\n",
      "303 TAXI                                          250\n",
      "SETARE INC                                        230\n",
      "AMERICAN UNITED TAXI AFFILIATION                  210\n",
      "LEONARD CAB CO                                    147\n",
      "METRO JET TAXI A                                  146\n",
      "NORSHORE CAB                                      127\n",
      "6742 - 83735 TASHA RIDE INC                        39\n",
      "3591 - 63480 CHUKS CAB                             37\n",
      "1469 - 64126 OMAR JADA                             36\n",
      "0118 - 42111 GODFREY S. AWIR                       33\n",
      "6743 - 78771 LUHAK CORP                            33\n",
      "6574 - BABYLON EXPRESS INC.                        31\n",
      "2809 - 95474 C & D CAB CO INC.                     29\n",
      "CHICAGO STAR TAXICAB                               29\n",
      "1085 - 72312 N AND W CAB CO                        29\n",
      "2092 - 61288 SBEIH COMPANY                         27\n",
      "3011 - 66308 JBL CAB INC.                          25\n",
      "3620 - 52292 DAVID K. CAB CORP.                    21\n",
      "4615 - 83503 TYRONE HENDERSON                      21\n",
      "3623 - 72222 ARRINGTON ENTERPRISES                 20\n",
      "5074 - 54002 AHZMI INC                             16\n",
      "2823 - 73307 LEE EXPRESS INC                       15\n",
      "4623 - 27290 JAY KIM                               15\n",
      "2192 - 73487 ZEYMANE CORP                          14\n",
      "3721 - SANTAMARIA EXPRESS                          14\n",
      "5006 - 39261 SALIFU BAWA                           14\n",
      "6057 - 24657 RICHARD ADDO                          13\n",
      "5997 - 65283 AW SERVICES INC.                      12\n",
      "METRO GROUP                                        11\n",
      "5062 - 34841 SAM MESTAS                             8\n",
      "4053 - 40193 ADWAR H. NIKOLA                        7\n",
      "2733 - 74600 BENNY JONA                             7\n",
      "5874 - 73628 SERGEY CAB CORP.                       5\n",
      "2241 - 44667 - FELMAN CORP                          3\n",
      "3556 - 36214 RC ANDREWS CAB                         2\n",
      "Total                                          137311\n"
     ]
    }
   ],
   "source": [
    "# Crear la tabla dinámica\n",
    "pivot_table_taxi = df_taxi_copy.pivot_table(\n",
    "    index='company_name',  # Campo para agrupar las filas\n",
    "    values='trips_amount', # Campo para aplicar la operación\n",
    "    aggfunc='sum',         # Función de agregación (suma en este caso)\n",
    "    fill_value=0           # Rellenar valores faltantes con 0\n",
    ")\n",
    "\n",
    "# Ordenar la tabla dinámica en orden descendente\n",
    "pivot_table_taxi = pivot_table_taxi.sort_values(by='trips_amount', ascending=False)\n",
    "\n",
    "# Agregar una fila total\n",
    "pivot_table_taxi.loc['Total'] = pivot_table_taxi['trips_amount'].sum()\n",
    "\n",
    "# Asegurar que muestre toda la tabla\n",
    "pd.set_option('display.max_rows', None)  # Mostrar todas las filas\n",
    "pd.set_option('display.max_columns', None)  # Mostrar todas las columnas\n",
    "\n",
    "# Mostrar la tabla dinámica con el total\n",
    "print(pivot_table_taxi)"
   ]
  },
  {
   "cell_type": "markdown",
   "metadata": {},
   "source": [
    "## 1.8 Descripción estadística y participación de mercado "
   ]
  },
  {
   "cell_type": "code",
   "execution_count": 11,
   "metadata": {},
   "outputs": [
    {
     "name": "stdout",
     "output_type": "stream",
     "text": [
      "       trips_amount\n",
      "count     64.000000\n",
      "mean    2145.484375\n",
      "std     3812.310186\n",
      "min        2.000000\n",
      "25%       20.750000\n",
      "50%      178.500000\n",
      "75%     2106.500000\n",
      "max    19558.000000\n"
     ]
    }
   ],
   "source": [
    "print(df_taxi_copy.describe())"
   ]
  },
  {
   "cell_type": "code",
   "execution_count": 12,
   "metadata": {},
   "outputs": [
    {
     "name": "stdout",
     "output_type": "stream",
     "text": [
      "72.29719396115387\n"
     ]
    }
   ],
   "source": [
    "# Calcular la participacion de las 10 principales compañias del total del maercado \n",
    "market_share_top_10 = (top_10_taxi['trips_amount'].sum() / df_taxi_copy['trips_amount'].sum()) * 100\n",
    "print(market_share_top_10)"
   ]
  },
  {
   "cell_type": "markdown",
   "metadata": {},
   "source": [
    "### 1.8.1 Gráfico Top 10 compañías de taxis"
   ]
  },
  {
   "cell_type": "code",
   "execution_count": 13,
   "metadata": {},
   "outputs": [
    {
     "data": {
      "image/png": "[encoded data removed]",
      "text/plain": [
       "<Figure size 640x480 with 1 Axes>"
      ]
     },
     "metadata": {},
     "output_type": "display_data"
    }
   ],
   "source": [
    "# Graficar el número de viajes por compañia de taxi\n",
    "sns.barplot(data=top_10_taxi, x='company_name', y='trips_amount')\n",
    "plt.xticks(rotation=90)\n",
    "plt.title('Number of trips Top 10 taxi company ')\n",
    "plt.show()"
   ]
  },
  {
   "cell_type": "markdown",
   "metadata": {},
   "source": [
    "### 1.8.2 Gráfico participación de mercado "
   ]
  },
  {
   "cell_type": "code",
   "execution_count": 14,
   "metadata": {},
   "outputs": [
    {
     "data": {
      "image/png": "[encoded data removed]",
      "text/plain": [
       "<Figure size 800x600 with 1 Axes>"
      ]
     },
     "metadata": {},
     "output_type": "display_data"
    }
   ],
   "source": [
    "# Ordenar el DataFrame por 'trips_amount' en orden descendente\n",
    "df_taxi_copy_sorted = df_taxi_copy.sort_values(by='trips_amount', ascending=False)\n",
    "\n",
    "# Calcular la suma de los viajes de las otras compañías\n",
    "other_taxi = df_taxi_copy_sorted.tail(len(df_taxi_copy_sorted) - 10)\n",
    "\n",
    "# Crear una nueva fila para \"Otras\"\n",
    "other_row = pd.DataFrame({'company_name': ['Others'], 'trips_amount': [other_taxi['trips_amount'].sum()]})\n",
    "\n",
    "# Concatenar las 10 principales compañías con \"Otras\"\n",
    "final_data_taxi = pd.concat([top_10_taxi, other_row], ignore_index=True)\n",
    "\n",
    "# Crear el gráfico de pastel\n",
    "plt.figure(figsize=(8, 6))\n",
    "plt.pie(final_data_taxi['trips_amount'], labels=final_data_taxi['company_name'], autopct='%1.1f%%', startangle=90)\n",
    "plt.title('Market Share by taxi company')\n",
    "plt.axis('equal')  # Para asegurar que el gráfico sea circular\n",
    "plt.show()"
   ]
  },
  {
   "cell_type": "markdown",
   "metadata": {},
   "source": [
    "### 1.8.3 Gráfico para valores atípicos"
   ]
  },
  {
   "cell_type": "code",
   "execution_count": 15,
   "metadata": {},
   "outputs": [
    {
     "data": {
      "image/png": "[encoded data removed]",
      "text/plain": [
       "<Figure size 800x600 with 1 Axes>"
      ]
     },
     "metadata": {},
     "output_type": "display_data"
    }
   ],
   "source": [
    "# Crear el gráfico de caja para la columna 'trips_amount'\n",
    "plt.figure(figsize=(8, 6))\n",
    "sns.boxplot(x=df_taxi_copy['trips_amount'])\n",
    "\n",
    "# Agregar título al gráfico\n",
    "plt.title('Boxplot of trips amount by taxi company')\n",
    "\n",
    "# Mostrar el gráfico\n",
    "plt.show()"
   ]
  },
  {
   "cell_type": "markdown",
   "metadata": {},
   "source": [
    "### 1.8.4 Gráfico de distribución del total de viajes realizados"
   ]
  },
  {
   "cell_type": "code",
   "execution_count": 16,
   "metadata": {},
   "outputs": [
    {
     "data": {
      "image/png": "[encoded data removed]",
      "text/plain": [
       "<Figure size 1000x600 with 1 Axes>"
      ]
     },
     "metadata": {},
     "output_type": "display_data"
    }
   ],
   "source": [
    "# Crear un histograma de la columna 'trips_amount'\n",
    "plt.figure(figsize=(10, 6))\n",
    "sns.histplot(df_taxi_copy['trips_amount'], kde=True, bins=20)  # kde=True agrega una curva de densidad\n",
    "\n",
    "# Agregar título y etiquetas\n",
    "plt.title('Distribution of trips by taxi company', fontsize=14)\n",
    "plt.xlabel('Number of trips', fontsize=12)\n",
    "plt.ylabel('Frequency', fontsize=12)\n",
    "\n",
    "# Mostrar el gráfico\n",
    "plt.show()"
   ]
  },
  {
   "cell_type": "markdown",
   "metadata": {},
   "source": [
    "## 1.9 Filtro Top 10 barrios "
   ]
  },
  {
   "cell_type": "code",
   "execution_count": 17,
   "metadata": {},
   "outputs": [
    {
     "name": "stdout",
     "output_type": "stream",
     "text": [
      "  dropoff_location_name  average_trips\n",
      "0                  LOOP   10727.466667\n",
      "1           RIVER NORTH    9523.666667\n",
      "2         STREETERVILLE    6664.666667\n",
      "3             WEST LOOP    5163.666667\n",
      "4                O'HARE    2546.900000\n",
      "5             LAKE VIEW    2420.966667\n",
      "6            GRANT PARK    2068.533333\n",
      "7         MUSEUM CAMPUS    1510.000000\n",
      "8            GOLD COAST    1364.233333\n",
      "9    SHEFFIELD & DEPAUL    1259.766667\n"
     ]
    }
   ],
   "source": [
    "# Identificar los 10 barrios principales en términos de finalización del recorrido \n",
    "top_10_neighborhoods = df_neighborhoods_copy.nlargest(10, 'average_trips')\n",
    "print(top_10_neighborhoods)"
   ]
  },
  {
   "cell_type": "code",
   "execution_count": 18,
   "metadata": {},
   "outputs": [
    {
     "name": "stdout",
     "output_type": "stream",
     "text": [
      "Number of unique neighborhoods: 94\n"
     ]
    }
   ],
   "source": [
    "# Contar valores únicos en la columna 'dropoff_location_name'\n",
    "unique_neighborhoods = df_neighborhoods_copy['dropoff_location_name'].nunique()\n",
    "\n",
    "print(f\"Number of unique neighborhoods: {unique_neighborhoods}\")"
   ]
  },
  {
   "cell_type": "markdown",
   "metadata": {},
   "source": [
    "## 1.10 Visualzación de todos los barrios (tabla dinámica)"
   ]
  },
  {
   "cell_type": "code",
   "execution_count": 19,
   "metadata": {},
   "outputs": [
    {
     "name": "stdout",
     "output_type": "stream",
     "text": [
      "                       average_trips\n",
      "dropoff_location_name               \n",
      "LOOP                    10727.466667\n",
      "RIVER NORTH              9523.666667\n",
      "STREETERVILLE            6664.666667\n",
      "WEST LOOP                5163.666667\n",
      "O'HARE                   2546.900000\n",
      "LAKE VIEW                2420.966667\n",
      "GRANT PARK               2068.533333\n",
      "MUSEUM CAMPUS            1510.000000\n",
      "GOLD COAST               1364.233333\n",
      "SHEFFIELD & DEPAUL       1259.766667\n",
      "LINCOLN PARK             1246.533333\n",
      "EAST VILLAGE             1212.066667\n",
      "LITTLE ITALY, UIC         863.700000\n",
      "UPTOWN                    849.666667\n",
      "NEAR SOUTH SIDE           839.833333\n",
      "GARFIELD RIDGE            745.400000\n",
      "LOGAN SQUARE              620.333333\n",
      "EDGEWATER                 583.300000\n",
      "WEST TOWN                 516.400000\n",
      "OLD TOWN                  469.566667\n",
      "RUSH & DIVISION           395.533333\n",
      "NORTH CENTER              393.266667\n",
      "LINCOLN SQUARE            356.733333\n",
      "ROGERS PARK               299.033333\n",
      "WEST RIDGE                298.333333\n",
      "IRVING PARK               296.566667\n",
      "HYDE PARK                 255.133333\n",
      "AVONDALE                  208.233333\n",
      "WICKER PARK               182.600000\n",
      "ALBANY PARK               180.900000\n",
      "UNITED CENTER             178.900000\n",
      "LOWER WEST SIDE           143.300000\n",
      "DOUGLAS                   142.900000\n",
      "PORTAGE PARK              119.733333\n",
      "HUMBOLDT PARK              97.866667\n",
      "NORWOOD PARK               95.233333\n",
      "KENWOOD                    89.366667\n",
      "BRIDGEPORT                 77.100000\n",
      "ARMOUR SQUARE              77.033333\n",
      "JEFFERSON PARK             74.333333\n",
      "BUCKTOWN                   74.300000\n",
      "NORTH PARK                 67.833333\n",
      "GARFIELD PARK              65.766667\n",
      "MCKINLEY PARK              64.033333\n",
      "BELMONT CRAGIN             59.033333\n",
      "BOYSTOWN                   53.966667\n",
      "CHINATOWN                  52.433333\n",
      "GRAND BOULEVARD            51.600000\n",
      "AUSTIN                     44.433333\n",
      "SAUGANASH,FOREST GLEN      43.566667\n",
      "SOUTH SHORE                40.533333\n",
      "WOODLAWN                   36.166667\n",
      "LITTLE VILLAGE             33.800000\n",
      "JACKSON PARK               33.103448\n",
      "NORTH LAWNDALE             32.166667\n",
      "DUNNING                    30.166667\n",
      "UKRAINIAN VILLAGE          27.600000\n",
      "HERMOSA                    27.566667\n",
      "ENGLEWOOD                  25.433333\n",
      "CHATHAM                    23.200000\n",
      "NEW CITY                   22.933333\n",
      "GRAND CROSSING             22.600000\n",
      "BRIGHTON PARK              19.466667\n",
      "ANDERSONVILLE              16.866667\n",
      "OAKLAND                    16.633333\n",
      "ASHBURN                    16.133333\n",
      "WASHINGTON PARK            16.033333\n",
      "AUBURN GRESHAM             15.166667\n",
      "CLEARING                   14.500000\n",
      "ROSELAND                   14.366667\n",
      "WRIGLEYVILLE               14.233333\n",
      "EDISON PARK                14.166667\n",
      "SOUTH CHICAGO              13.000000\n",
      "CHICAGO LAWN               12.266667\n",
      "BEVERLY                    10.500000\n",
      "CALUMET HEIGHTS             9.566667\n",
      "WASHINGTON HEIGHTS          9.133333\n",
      "ARCHER HEIGHTS              8.366667\n",
      "GAGE PARK                   8.233333\n",
      "FULLER PARK                 8.166667\n",
      "WEST LAWN                   7.733333\n",
      "MORGAN PARK                 7.700000\n",
      "SOUTH DEERING               7.500000\n",
      "AVALON PARK                 6.966667\n",
      "WEST PULLMAN                6.466667\n",
      "MONTCLARE                   5.766667\n",
      "WEST ELSDON                 5.666667\n",
      "PULLMAN                     3.896552\n",
      "UNDEF                       3.800000\n",
      "MOUNT GREENWOOD             3.137931\n",
      "HEGEWISCH                   3.117647\n",
      "BURNSIDE                    2.333333\n",
      "EAST SIDE                   1.961538\n",
      "RIVERDALE                   1.800000\n",
      "Total                   56395.650450\n"
     ]
    }
   ],
   "source": [
    "# Crear la tabla dinámica\n",
    "pivot_table_neighborhoods = df_neighborhoods_copy.pivot_table(\n",
    "    index='dropoff_location_name',  # Campo para agrupar las filas\n",
    "    values='average_trips', # Campo para aplicar la operación\n",
    "    aggfunc='sum',         # Función de agregación (suma en este caso)\n",
    "    fill_value=0           # Rellenar valores faltantes con 0\n",
    ")\n",
    "\n",
    "# Ordenar la tabla dinámica en orden descendente\n",
    "pivot_table_neighborhoods = pivot_table_neighborhoods.sort_values(by='average_trips', ascending=False)\n",
    "\n",
    "# Agregar una fila total\n",
    "pivot_table_neighborhoods.loc['Total'] = pivot_table_neighborhoods['average_trips'].sum()\n",
    "\n",
    "# Asegurar que muestre toda la tabla\n",
    "pd.set_option('display.max_rows', None)  # Mostrar todas las filas\n",
    "pd.set_option('display.max_columns', None)  # Mostrar todas las columnas\n",
    "\n",
    "# Mostrar la tabla dinámica con el total\n",
    "print(pivot_table_neighborhoods)"
   ]
  },
  {
   "cell_type": "markdown",
   "metadata": {},
   "source": [
    "## 1.11 Descripción estadística y participación de mercado"
   ]
  },
  {
   "cell_type": "code",
   "execution_count": 20,
   "metadata": {},
   "outputs": [
    {
     "name": "stdout",
     "output_type": "stream",
     "text": [
      "       average_trips\n",
      "count      94.000000\n",
      "mean      599.953728\n",
      "std      1714.591098\n",
      "min         1.800000\n",
      "25%        14.266667\n",
      "50%        52.016667\n",
      "75%       298.858333\n",
      "max     10727.466667\n"
     ]
    }
   ],
   "source": [
    "print(df_neighborhoods_copy.describe())"
   ]
  },
  {
   "cell_type": "code",
   "execution_count": 21,
   "metadata": {},
   "outputs": [
    {
     "name": "stdout",
     "output_type": "stream",
     "text": [
      "76.69007507076712\n"
     ]
    }
   ],
   "source": [
    "# Calcular la participacion de los 10 principales barrios del total del maercado \n",
    "market_share_top_10_neighborhoods = (top_10_neighborhoods['average_trips'].sum() / df_neighborhoods_copy['average_trips'].sum()) * 100\n",
    "print(market_share_top_10_neighborhoods)"
   ]
  },
  {
   "cell_type": "markdown",
   "metadata": {},
   "source": [
    "### 1.11.1 Gráfico Top 10 barrios"
   ]
  },
  {
   "cell_type": "code",
   "execution_count": 22,
   "metadata": {},
   "outputs": [
    {
     "data": {
      "image/png": "[encoded data removed]",
      "text/plain": [
       "<Figure size 640x480 with 1 Axes>"
      ]
     },
     "metadata": {},
     "output_type": "display_data"
    }
   ],
   "source": [
    "# Graficar el número de viajes por barrio\n",
    "sns.barplot(data=top_10_neighborhoods, x='dropoff_location_name', y='average_trips')\n",
    "plt.xticks(rotation=90)\n",
    "plt.title('Number of trips Top 10 neighborhoods ')\n",
    "plt.show()"
   ]
  },
  {
   "cell_type": "markdown",
   "metadata": {},
   "source": [
    "### 1.11.2 Gráfico participación de mercado "
   ]
  },
  {
   "cell_type": "code",
   "execution_count": 23,
   "metadata": {},
   "outputs": [
    {
     "data": {
      "image/png": "[encoded data removed]",
      "text/plain": [
       "<Figure size 800x600 with 1 Axes>"
      ]
     },
     "metadata": {},
     "output_type": "display_data"
    }
   ],
   "source": [
    "# Ordenar el DataFrame por 'average_trips' en orden descendente\n",
    "df_neighborhoods_copy_sorted = df_neighborhoods_copy.sort_values(by='average_trips', ascending=False)\n",
    "\n",
    "# Calcular la suma de los viajes de los otros barrios\n",
    "other_neighborhoods = df_neighborhoods_copy_sorted.tail(len(df_neighborhoods_copy_sorted) - 10)\n",
    "\n",
    "# Crear una nueva fila para \"Otras\"\n",
    "other_row_neighborhoods = pd.DataFrame({'dropoff_location_name': ['Others'], 'average_trips': [other_neighborhoods['average_trips'].sum()]})\n",
    "\n",
    "# Concatenar los 10 principales barrios con \"Otras\"\n",
    "final_data_neighborhoods = pd.concat([top_10_neighborhoods, other_row_neighborhoods], ignore_index=True)\n",
    "\n",
    "# Crear el gráfico de pastel\n",
    "plt.figure(figsize=(8, 6))\n",
    "plt.pie(final_data_neighborhoods['average_trips'], labels=final_data_neighborhoods['dropoff_location_name'], autopct='%1.1f%%', startangle=90)\n",
    "plt.title('Market Share by neighborhoods')\n",
    "plt.axis('equal')  # Para asegurar que el gráfico sea circular\n",
    "plt.show()"
   ]
  },
  {
   "cell_type": "markdown",
   "metadata": {},
   "source": [
    "### 1.11.3 Gráfico para valores atípicos"
   ]
  },
  {
   "cell_type": "code",
   "execution_count": 24,
   "metadata": {},
   "outputs": [
    {
     "data": {
      "image/png": "[encoded data removed]",
      "text/plain": [
       "<Figure size 800x600 with 1 Axes>"
      ]
     },
     "metadata": {},
     "output_type": "display_data"
    }
   ],
   "source": [
    "# Crear el gráfico de caja para la columna 'average_trips'\n",
    "plt.figure(figsize=(8, 6))\n",
    "sns.boxplot(x=df_neighborhoods_copy['average_trips'])\n",
    "\n",
    "# Agregar título al gráfico\n",
    "plt.title('Boxplot of average trips by neighborhoods')\n",
    "\n",
    "# Mostrar el gráfico\n",
    "plt.show()"
   ]
  },
  {
   "cell_type": "markdown",
   "metadata": {},
   "source": [
    "### 1.11.4 Gráfico de distribución del total de viajes realizados"
   ]
  },
  {
   "cell_type": "code",
   "execution_count": 25,
   "metadata": {},
   "outputs": [
    {
     "data": {
      "image/png": "[encoded data removed]",
      "text/plain": [
       "<Figure size 1000x600 with 1 Axes>"
      ]
     },
     "metadata": {},
     "output_type": "display_data"
    }
   ],
   "source": [
    "# Crear un histograma de la columna 'average_trips'\n",
    "plt.figure(figsize=(10, 6))\n",
    "sns.histplot(df_neighborhoods_copy['average_trips'], kde=True, bins=20)  # kde=True agrega una curva de densidad\n",
    "\n",
    "# Agregar título y etiquetas\n",
    "plt.title('Distribution of trips by neighborhoods', fontsize=14)\n",
    "plt.xlabel('Number of trips', fontsize=12)\n",
    "plt.ylabel('Frequency', fontsize=12)\n",
    "\n",
    "# Mostrar el gráfico\n",
    "plt.show()"
   ]
  },
  {
   "cell_type": "markdown",
   "metadata": {},
   "source": [
    "## 1.12 Comentario de hallazgos encontrados"
   ]
  },
  {
   "cell_type": "markdown",
   "metadata": {},
   "source": [
    "Se puedo observar que el mercado de compñias de taxis en Chicago dentro de sus diez principales compañias las tres primeras captan el 30% del total sin embargo la primera que es FLASH CAB tiene el 14.2% y las dos siguientes TAXI AFFILIATION SERVICES y MEDALLION LEASING estan muy distantes con el 8.3% y 7.6% respectivamente cada una, teniendo dos categorias mas que serian desde la cuarta hasta la décima compañia con un 42.2% que van desde el 7.2% hasta el 4.3% para la quinta y décima compañia respectivamente y la ultima categoria que es 'otras' tiene el 27.7%. Lo relevante de esto es que hay en total 64 compañias de taxi en Chicago y de estas 54 se reparten el 27.7% lo cual nos muestra una atomizacion en esta categoria con un promedio de 704 viajes por compañia muy por debajo del promedio general de todas las 64 compañias que de 2145 viajes y la mediana es de 178 viajes lo que nos indica que 32 empresas estan por debajo de la mediana lo que ratifica la atomizacion en esta categoria haciendo que ninguna destaque entre los uuarios ni por servicio ni por precio (esto puede ser porque no tienen una estrategia de captar clientes y realizan la oferta de la manera tradicional sin realizar publicidad ni promociones ni planes de fidelizacion o tiene  poca disponibilidad de unidades o sus horarios son limitados), ademas el promedio de las 10 primeras compañias es de 9927 viajes y solo las cuatro primeras estan por encima de este y claramente FLASH CAB destaca como la empresa lider (aqui se debe analizar mas a profundidad si es por la cantidad de unidades que tiene disponibles o por los horarios si son 24/7 lo cual capta los clientes que las otras no atienden o por promociones y planes de fidelizacion o tambbien prestan servicio institucional a empresas lo que podria hacer que los usuarios la prefieran). Este análisis previo nos demuestra que la participación de FLASH CAB supondria ser mayoritaria en lo que corresponde a LOOP, NORTH LOOP y STREETERVILLE que concentran el centro financiero, el gobierno público, comercio, restaurantes y atracciones famosas de la ciudad pues seguramente aqui compite con las demas compañias pero al ser la preferida pues debe tener una importante presencia entre los usuarios sin embargo pensaria que el mismo comportamiento se presenta en NORTH RIVER que es famosa por su vida nocturna, bares, discotecas y restaurantes y al pensar que FLASH CAB presta un servicio de 24/7 atenderia este tipo de clientes en su mayoria al igual que en O´HARE que al ser el aeropuerto no todas las compañias de taxis pueden tener presencia por el costo que implica operar dentro de un aeropuerto y finalmente diria que por la infraestructura que presenta FLASH CAB posiblemente atiende los demas barrios que a las demas compañias no les resulta atractivo tener sus unidades en lugares alejados por el costo y tiempo que esto implica al recorrer grandes distancias lo cual en prinicpio no seria un obstaculo para FLASH CAB que puede tener una cobertura amplia de la ciudad y por eso se traduce en la preferencia de los usuarios."
   ]
  },
  {
   "cell_type": "markdown",
   "metadata": {},
   "source": [
    "<div class=\"alert alert-block alert-success\">\n",
    "\n",
    "<b>Comentario del revisor</b> <a class=\"tocSkip\"></a>\n",
    "\n",
    "    \n",
    "Muy buena exploracion inicial donde dejaste excelentes conclusiones, minuciosas y claras.\n",
    "    \n",
    " Tus graficos fueron muy buenos.\n",
    "\n",
    "</div>"
   ]
  },
  {
   "cell_type": "markdown",
   "metadata": {},
   "source": [
    "# 2 Prueba de hipótesis (Python)"
   ]
  },
  {
   "cell_type": "markdown",
   "metadata": {},
   "source": [
    "## 2.1 Revisión de la estructura y tipos de datos"
   ]
  },
  {
   "cell_type": "code",
   "execution_count": 26,
   "metadata": {},
   "outputs": [
    {
     "name": "stdout",
     "output_type": "stream",
     "text": [
      "              start_ts weather_conditions  duration_seconds\n",
      "0  2017-11-25 16:00:00               Good            2410.0\n",
      "1  2017-11-25 14:00:00               Good            1920.0\n",
      "2  2017-11-25 12:00:00               Good            1543.0\n",
      "3  2017-11-04 10:00:00               Good            2512.0\n",
      "4  2017-11-11 07:00:00               Good            1440.0\n",
      "<class 'pandas.core.frame.DataFrame'>\n",
      "RangeIndex: 1068 entries, 0 to 1067\n",
      "Data columns (total 3 columns):\n",
      " #   Column              Non-Null Count  Dtype  \n",
      "---  ------              --------------  -----  \n",
      " 0   start_ts            1068 non-null   object \n",
      " 1   weather_conditions  1068 non-null   object \n",
      " 2   duration_seconds    1068 non-null   float64\n",
      "dtypes: float64(1), object(2)\n",
      "memory usage: 25.2+ KB\n",
      "None\n"
     ]
    }
   ],
   "source": [
    "# Verificar las primeras filas\n",
    "print(df_trips_loop_ohare.head())\n",
    "\n",
    "# Verificar tipos de datos y valores nulos\n",
    "print(df_trips_loop_ohare.info())"
   ]
  },
  {
   "cell_type": "markdown",
   "metadata": {},
   "source": [
    "## 2.2 Verificación de valores ausentes NAN"
   ]
  },
  {
   "cell_type": "code",
   "execution_count": 27,
   "metadata": {},
   "outputs": [
    {
     "name": "stdout",
     "output_type": "stream",
     "text": [
      "start_ts              0\n",
      "weather_conditions    0\n",
      "duration_seconds      0\n",
      "dtype: int64\n"
     ]
    }
   ],
   "source": [
    "# Verificar valores ausentes NAN\n",
    "print(df_trips_loop_ohare.isna().sum())"
   ]
  },
  {
   "cell_type": "markdown",
   "metadata": {},
   "source": [
    "Compruebo el tipo de datos que sean correctos y que no existan valores ausentes NAN"
   ]
  },
  {
   "cell_type": "markdown",
   "metadata": {},
   "source": [
    "## 2.3 Creación de una copia de los datos originales para realizar operaciones matemáticas y gráficos"
   ]
  },
  {
   "cell_type": "code",
   "execution_count": 28,
   "metadata": {},
   "outputs": [],
   "source": [
    "# Crear una copia del dataframe original para realizar los cambios y calculos \n",
    "df_trips_loop_ohare_copy = df_trips_loop_ohare.copy()"
   ]
  },
  {
   "cell_type": "markdown",
   "metadata": {},
   "source": [
    "Creo una copia del dataframe orginal para realizar calculos y mntengo la informacion original en caso de necesitar mas adelante"
   ]
  },
  {
   "cell_type": "markdown",
   "metadata": {},
   "source": [
    "## 2.4 Verificación de filas completamente duplicadas"
   ]
  },
  {
   "cell_type": "code",
   "execution_count": 29,
   "metadata": {},
   "outputs": [
    {
     "name": "stdout",
     "output_type": "stream",
     "text": [
      "                 start_ts weather_conditions  duration_seconds\n",
      "62    2017-11-11 06:00:00               Good            1260.0\n",
      "74    2017-11-11 08:00:00               Good            1380.0\n",
      "76    2017-11-04 09:00:00               Good            1380.0\n",
      "117   2017-11-11 07:00:00               Good            1380.0\n",
      "119   2017-11-04 14:00:00               Good            3300.0\n",
      "125   2017-11-11 08:00:00               Good            1380.0\n",
      "126   2017-11-11 09:00:00               Good            1380.0\n",
      "130   2017-11-11 10:00:00               Good            1260.0\n",
      "179   2017-11-11 06:00:00               Good            1260.0\n",
      "190   2017-11-04 08:00:00               Good            1323.0\n",
      "196   2017-11-18 10:00:00                Bad            1440.0\n",
      "202   2017-11-04 12:00:00               Good            2640.0\n",
      "207   2017-11-11 08:00:00               Good            1200.0\n",
      "216   2017-11-04 08:00:00               Good            1380.0\n",
      "230   2017-11-11 09:00:00               Good            1380.0\n",
      "233   2017-11-04 18:00:00                Bad            2580.0\n",
      "250   2017-11-11 06:00:00               Good            1260.0\n",
      "254   2017-11-04 14:00:00               Good            3120.0\n",
      "255   2017-11-25 12:00:00               Good            1380.0\n",
      "260   2017-11-11 11:00:00               Good            1620.0\n",
      "291   2017-11-11 07:00:00               Good            1440.0\n",
      "293   2017-11-04 14:00:00               Good            3360.0\n",
      "296   2017-11-04 17:00:00                Bad            2640.0\n",
      "309   2017-11-04 12:00:00               Good            2460.0\n",
      "333   2017-11-11 06:00:00               Good            1260.0\n",
      "335   2017-11-11 08:00:00               Good            1380.0\n",
      "343   2017-11-11 06:00:00               Good            1260.0\n",
      "347   2017-11-11 17:00:00               Good            2460.0\n",
      "350   2017-11-11 08:00:00               Good            1320.0\n",
      "359   2017-11-18 16:00:00                Bad            2820.0\n",
      "361   2017-11-04 14:00:00               Good            2940.0\n",
      "367   2017-11-11 11:00:00               Good            1620.0\n",
      "373   2017-11-04 14:00:00               Good            3180.0\n",
      "379   2017-11-18 14:00:00               Good            2940.0\n",
      "387   2017-11-11 06:00:00               Good            1380.0\n",
      "403   2017-11-11 14:00:00               Good            2400.0\n",
      "407   2017-11-11 08:00:00               Good            1320.0\n",
      "425   2017-11-11 07:00:00               Good            1440.0\n",
      "440   2017-11-11 08:00:00               Good            1380.0\n",
      "458   2017-11-11 14:00:00               Good            2820.0\n",
      "459   2017-11-11 10:00:00               Good            1560.0\n",
      "460   2017-11-11 10:00:00               Good            1560.0\n",
      "463   2017-11-04 10:00:00               Good            1860.0\n",
      "464   2017-11-11 06:00:00               Good            1380.0\n",
      "469   2017-11-11 17:00:00               Good            2460.0\n",
      "477   2017-11-11 14:00:00               Good            2340.0\n",
      "478   2017-11-11 07:00:00               Good            1200.0\n",
      "480   2017-11-11 11:00:00               Good            1380.0\n",
      "488   2017-11-11 14:00:00               Good            2280.0\n",
      "502   2017-11-04 17:00:00                Bad            2040.0\n",
      "504   2017-11-04 12:00:00               Good            2460.0\n",
      "509   2017-11-11 14:00:00               Good            2040.0\n",
      "524   2017-11-18 08:00:00                Bad            1500.0\n",
      "531   2017-11-18 12:00:00                Bad            2220.0\n",
      "535   2017-11-11 06:00:00               Good            1380.0\n",
      "540   2017-11-11 12:00:00               Good            1860.0\n",
      "541   2017-11-04 05:00:00               Good            1200.0\n",
      "543   2017-11-18 06:00:00               Good            1500.0\n",
      "560   2017-11-11 06:00:00               Good            1380.0\n",
      "563   2017-11-11 06:00:00               Good            1200.0\n",
      "566   2017-11-11 08:00:00               Good            1440.0\n",
      "577   2017-11-04 17:00:00                Bad            2580.0\n",
      "581   2017-11-11 08:00:00               Good            1320.0\n",
      "584   2017-11-11 07:00:00               Good            1320.0\n",
      "587   2017-11-04 14:00:00               Good            3240.0\n",
      "588   2017-11-04 18:00:00                Bad            2580.0\n",
      "590   2017-11-04 12:00:00               Good            2460.0\n",
      "599   2017-11-04 16:00:00                Bad            3180.0\n",
      "600   2017-11-04 12:00:00               Good            2520.0\n",
      "602   2017-11-11 16:00:00               Good            2220.0\n",
      "603   2017-11-11 08:00:00               Good            1140.0\n",
      "606   2017-11-18 10:00:00                Bad            1260.0\n",
      "612   2017-11-11 08:00:00               Good            1320.0\n",
      "615   2017-11-04 16:00:00                Bad            3000.0\n",
      "617   2017-11-04 12:00:00               Good            2760.0\n",
      "618   2017-11-11 14:00:00               Good            2340.0\n",
      "620   2017-11-11 10:00:00               Good            1200.0\n",
      "637   2017-11-11 14:00:00               Good            2400.0\n",
      "641   2017-11-11 14:00:00               Good            2100.0\n",
      "642   2017-11-11 12:00:00               Good            1980.0\n",
      "644   2017-11-11 14:00:00               Good            2040.0\n",
      "652   2017-11-04 17:00:00                Bad            2340.0\n",
      "655   2017-11-04 08:00:00               Good            1260.0\n",
      "657   2017-11-11 08:00:00               Good            1260.0\n",
      "658   2017-11-18 12:00:00                Bad            2700.0\n",
      "665   2017-11-11 09:00:00               Good            1620.0\n",
      "666   2017-11-11 10:00:00               Good            1260.0\n",
      "669   2017-11-11 10:00:00               Good            1380.0\n",
      "674   2017-11-04 17:00:00                Bad            2580.0\n",
      "675   2017-11-04 14:00:00               Good            3840.0\n",
      "679   2017-11-11 16:00:00               Good            2400.0\n",
      "680   2017-11-11 16:00:00               Good            2400.0\n",
      "682   2017-11-04 06:00:00               Good            1267.0\n",
      "684   2017-11-04 17:00:00                Bad            2151.0\n",
      "686   2017-11-11 09:00:00               Good            1260.0\n",
      "687   2017-11-11 06:00:00               Good            1320.0\n",
      "689   2017-11-11 11:00:00               Good            1440.0\n",
      "693   2017-11-04 12:00:00               Good            2580.0\n",
      "694   2017-11-04 16:00:00                Bad            3420.0\n",
      "695   2017-11-11 06:00:00               Good            1500.0\n",
      "697   2017-11-11 10:00:00               Good            1560.0\n",
      "699   2017-11-18 12:00:00                Bad            2640.0\n",
      "700   2017-11-18 12:00:00                Bad            2640.0\n",
      "701   2017-11-11 14:00:00               Good            2460.0\n",
      "709   2017-11-04 11:00:00               Good            2963.0\n",
      "710   2017-11-18 14:00:00               Good            3540.0\n",
      "717   2017-11-18 10:00:00                Bad            1560.0\n",
      "718   2017-11-04 20:00:00               Good            2220.0\n",
      "720   2017-11-11 10:00:00               Good            1200.0\n",
      "725   2017-11-11 06:00:00               Good            1260.0\n",
      "740   2017-11-11 16:00:00               Good            2220.0\n",
      "746   2017-11-04 16:00:00                Bad            3180.0\n",
      "747   2017-11-04 18:00:00                Bad            2220.0\n",
      "753   2017-11-04 16:00:00                Bad            2820.0\n",
      "755   2017-11-11 14:00:00               Good            2400.0\n",
      "757   2017-11-11 11:00:00               Good            1620.0\n",
      "760   2017-11-04 14:00:00               Good            3300.0\n",
      "762   2017-11-11 16:00:00               Good            2400.0\n",
      "763   2017-11-11 06:00:00               Good            1320.0\n",
      "764   2017-11-11 07:00:00               Good            1440.0\n",
      "765   2017-11-11 12:00:00               Good            1620.0\n",
      "771   2017-11-11 08:00:00               Good            1200.0\n",
      "782   2017-11-11 16:00:00               Good            2400.0\n",
      "792   2017-11-11 09:00:00               Good            1260.0\n",
      "794   2017-11-11 07:00:00               Good            1380.0\n",
      "795   2017-11-11 14:00:00               Good            2220.0\n",
      "796   2017-11-04 14:00:00               Good            3000.0\n",
      "802   2017-11-04 14:00:00               Good            3300.0\n",
      "810   2017-11-04 17:00:00                Bad            2580.0\n",
      "817   2017-11-04 16:00:00                Bad            2820.0\n",
      "821   2017-11-11 07:00:00               Good            1440.0\n",
      "823   2017-11-11 09:00:00               Good            1440.0\n",
      "827   2017-11-11 08:00:00               Good            1500.0\n",
      "829   2017-11-11 10:00:00               Good            1440.0\n",
      "830   2017-11-11 08:00:00               Good            1440.0\n",
      "831   2017-11-25 11:00:00               Good            1680.0\n",
      "833   2017-11-04 07:00:00               Good            1440.0\n",
      "834   2017-11-04 16:00:00                Bad            3180.0\n",
      "835   2017-11-11 10:00:00               Good            1200.0\n",
      "840   2017-11-11 11:00:00               Good            1740.0\n",
      "841   2017-11-04 12:00:00               Good            2520.0\n",
      "845   2017-11-11 08:00:00               Good            1200.0\n",
      "846   2017-11-11 06:00:00               Good            1380.0\n",
      "851   2017-11-11 07:00:00               Good            1320.0\n",
      "853   2017-11-11 08:00:00               Good            1380.0\n",
      "861   2017-11-04 16:00:00                Bad            2760.0\n",
      "878   2017-11-11 10:00:00               Good            1560.0\n",
      "885   2017-11-18 06:00:00               Good            1500.0\n",
      "888   2017-11-04 16:00:00                Bad            2820.0\n",
      "890   2017-11-04 10:00:00               Good            1680.0\n",
      "899   2017-11-04 14:00:00               Good            3480.0\n",
      "908   2017-11-11 11:00:00               Good            1680.0\n",
      "910   2017-11-04 12:00:00               Good            2520.0\n",
      "911   2017-11-11 12:00:00               Good            1860.0\n",
      "913   2017-11-11 08:00:00               Good            1200.0\n",
      "916   2017-11-18 06:00:00               Good            1500.0\n",
      "918   2017-11-04 16:00:00                Bad            3420.0\n",
      "920   2017-11-11 08:00:00               Good            1380.0\n",
      "923   2017-11-11 07:00:00               Good            1380.0\n",
      "927   2017-11-04 08:00:00               Good            1260.0\n",
      "928   2017-11-04 11:00:00               Good            2400.0\n",
      "930   2017-11-11 12:00:00               Good            1800.0\n",
      "933   2017-11-04 07:00:00               Good            1200.0\n",
      "934   2017-11-04 14:00:00               Good            3000.0\n",
      "946   2017-11-04 15:00:00               Good            3180.0\n",
      "948   2017-11-11 06:00:00               Good            1260.0\n",
      "956   2017-11-04 10:00:00               Good            2460.0\n",
      "959   2017-11-11 07:00:00               Good            1260.0\n",
      "967   2017-11-18 13:00:00                Bad            2700.0\n",
      "971   2017-11-04 17:00:00                Bad            2340.0\n",
      "972   2017-11-04 12:00:00               Good            2460.0\n",
      "974   2017-11-04 12:00:00               Good            3000.0\n",
      "975   2017-11-11 11:00:00               Good            1680.0\n",
      "978   2017-11-18 08:00:00                Bad            1620.0\n",
      "979   2017-11-04 07:00:00               Good            1140.0\n",
      "981   2017-11-11 12:00:00               Good            1860.0\n",
      "987   2017-11-04 12:00:00               Good            2700.0\n",
      "995   2017-11-11 12:00:00               Good            1500.0\n",
      "1004  2017-11-11 16:00:00               Good            2400.0\n",
      "1011  2017-11-18 14:00:00               Good            3660.0\n",
      "1012  2017-11-11 10:00:00               Good            1500.0\n",
      "1019  2017-11-11 14:00:00               Good            2400.0\n",
      "1020  2017-11-04 07:00:00               Good            1260.0\n",
      "1024  2017-11-11 06:00:00               Good            1380.0\n",
      "1025  2017-11-04 07:00:00               Good            1380.0\n",
      "1034  2017-11-11 10:00:00               Good            1500.0\n",
      "1035  2017-11-11 11:00:00               Good            1740.0\n",
      "1036  2017-11-04 08:00:00               Good            1380.0\n",
      "1041  2017-11-11 08:00:00               Good            1200.0\n",
      "1048  2017-11-11 17:00:00               Good            2280.0\n",
      "1051  2017-11-04 11:00:00               Good            2700.0\n",
      "1052  2017-11-18 15:00:00               Good            3240.0\n",
      "1054  2017-11-11 07:00:00               Good            1380.0\n",
      "1058  2017-11-25 12:00:00               Good            1440.0\n",
      "1062  2017-11-11 06:00:00               Good            1500.0\n",
      "1065  2017-11-11 13:00:00               Good            2100.0\n",
      "1066  2017-11-11 08:00:00               Good            1380.0\n"
     ]
    }
   ],
   "source": [
    "# Verificar si hay filas duplicadas\n",
    "duplicated_rows_trips_loop_ohare = df_trips_loop_ohare_copy[df_trips_loop_ohare_copy.duplicated()]\n",
    "print(duplicated_rows_trips_loop_ohare)"
   ]
  },
  {
   "cell_type": "markdown",
   "metadata": {},
   "source": [
    "### 2.4.1 Eliminación de filas completamente duplicadas"
   ]
  },
  {
   "cell_type": "code",
   "execution_count": 30,
   "metadata": {},
   "outputs": [
    {
     "name": "stdout",
     "output_type": "stream",
     "text": [
      "Número total de filas antes de eliminar duplicados: 1068\n",
      "\n",
      "Número de filas después de eliminar duplicados: 871\n",
      "\n",
      "Empty DataFrame\n",
      "Columns: [start_ts, weather_conditions, duration_seconds]\n",
      "Index: []\n"
     ]
    }
   ],
   "source": [
    "# Contar el número total de filas antes de eliminar duplicados\n",
    "total_filas_antes = len(df_trips_loop_ohare_copy)\n",
    "\n",
    "print(f\"Número total de filas antes de eliminar duplicados: {total_filas_antes}\")\n",
    "\n",
    "print()\n",
    "\n",
    "# Eliminar filas completamente duplicadas\n",
    "df_trips_loop_ohare_copy = df_trips_loop_ohare_copy.drop_duplicates()\n",
    "\n",
    "# Verificar el número de filas después de eliminar duplicados\n",
    "print(f\"Número de filas después de eliminar duplicados: {len(df_trips_loop_ohare_copy)}\")\n",
    "\n",
    "print()\n",
    "\n",
    "# Verificar si hay filas duplicadas\n",
    "duplicated_rows_trips_loop_ohare = df_trips_loop_ohare_copy[df_trips_loop_ohare_copy.duplicated()]\n",
    "print(duplicated_rows_trips_loop_ohare)"
   ]
  },
  {
   "cell_type": "markdown",
   "metadata": {},
   "source": [
    "Verifico que no existan filas duplicadas"
   ]
  },
  {
   "cell_type": "markdown",
   "metadata": {},
   "source": [
    "## 2.5 Filtro Top 10 días con los viajes más largos (segundos)"
   ]
  },
  {
   "cell_type": "code",
   "execution_count": 31,
   "metadata": {},
   "outputs": [
    {
     "name": "stdout",
     "output_type": "stream",
     "text": [
      "                start_ts weather_conditions  duration_seconds\n",
      "354  2017-11-25 11:00:00               Good            7440.0\n",
      "619  2017-11-25 14:00:00               Good            6420.0\n",
      "276  2017-11-18 12:00:00                Bad            4980.0\n",
      "583  2017-11-11 16:00:00               Good            4980.0\n",
      "79   2017-11-11 15:00:00               Good            4800.0\n",
      "646  2017-11-11 13:00:00               Good            4380.0\n",
      "353  2017-11-25 18:00:00               Good            4140.0\n",
      "110  2017-11-18 13:00:00                Bad            4044.0\n",
      "798  2017-11-04 14:00:00               Good            3982.0\n",
      "304  2017-11-11 18:00:00               Good            3900.0\n"
     ]
    }
   ],
   "source": [
    "# Identificar los 10 barrios principales en términos de finalización del recorrido \n",
    "top_10_trips_loop_ohare = df_trips_loop_ohare_copy.nlargest(10, 'duration_seconds')\n",
    "print(top_10_trips_loop_ohare)"
   ]
  },
  {
   "cell_type": "markdown",
   "metadata": {},
   "source": [
    "## 2.6 Agrupo la duración de viajes por día, hora y condicion del clima (segundos)"
   ]
  },
  {
   "cell_type": "code",
   "execution_count": 32,
   "metadata": {},
   "outputs": [
    {
     "name": "stdout",
     "output_type": "stream",
     "text": [
      "\n",
      "Total duration seconds per day:\n",
      "day\n",
      "2017-11-04    709912.0\n",
      "2017-11-11    581433.0\n",
      "2017-11-18    360982.0\n",
      "2017-11-25    173558.0\n",
      "Name: duration_seconds, dtype: float64\n",
      "\n",
      "Total duration seconds per hour:\n",
      "hour\n",
      "0       2040.0\n",
      "1          0.0\n",
      "2       2956.0\n",
      "3       4998.0\n",
      "4      27240.0\n",
      "5      49322.0\n",
      "6     109681.0\n",
      "7      61929.0\n",
      "8      86338.0\n",
      "9      50084.0\n",
      "10    142908.0\n",
      "11    130774.0\n",
      "12    236691.0\n",
      "13    125041.0\n",
      "14    223057.0\n",
      "15    143747.0\n",
      "16    189751.0\n",
      "17     91636.0\n",
      "18     92408.0\n",
      "19     25860.0\n",
      "20     16617.0\n",
      "21      8511.0\n",
      "22      1380.0\n",
      "23      2916.0\n",
      "Name: duration_seconds, dtype: float64\n",
      "\n",
      "Total duration seconds per day and weather conditions:\n",
      "day         weather_conditions\n",
      "2017-11-04  Bad                   155406.0\n",
      "            Good                  554506.0\n",
      "2017-11-11  Good                  581433.0\n",
      "2017-11-18  Bad                   201160.0\n",
      "            Good                  159822.0\n",
      "2017-11-25  Good                  173558.0\n",
      "Name: duration_seconds, dtype: float64\n",
      "\n",
      "Total duration seconds per hour and weather conditions:\n",
      "hour  weather_conditions\n",
      "0     Bad                      480.0\n",
      "      Good                    1560.0\n",
      "1     Good                       0.0\n",
      "2     Good                    2956.0\n",
      "3     Good                    4998.0\n",
      "4     Good                   27240.0\n",
      "5     Good                   49322.0\n",
      "6     Good                  109681.0\n",
      "7     Bad                    16828.0\n",
      "      Good                   45101.0\n",
      "8     Bad                    21769.0\n",
      "      Good                   64569.0\n",
      "9     Bad                     2757.0\n",
      "      Good                   47327.0\n",
      "10    Bad                    19949.0\n",
      "      Good                  122959.0\n",
      "11    Good                  130774.0\n",
      "12    Bad                    61961.0\n",
      "      Good                  174730.0\n",
      "13    Bad                    43196.0\n",
      "      Good                   81845.0\n",
      "14    Good                  223057.0\n",
      "15    Good                  143747.0\n",
      "16    Bad                   110543.0\n",
      "      Good                   79208.0\n",
      "17    Bad                    46432.0\n",
      "      Good                   45204.0\n",
      "18    Bad                    30903.0\n",
      "      Good                   61505.0\n",
      "19    Good                   25860.0\n",
      "20    Good                   16617.0\n",
      "21    Bad                     1748.0\n",
      "      Good                    6763.0\n",
      "22    Good                    1380.0\n",
      "23    Good                    2916.0\n",
      "Name: duration_seconds, dtype: float64\n"
     ]
    }
   ],
   "source": [
    "# Asegurar que start_ts está en formato datetime\n",
    "df_trips_loop_ohare_copy['start_ts'] = pd.to_datetime(df_trips_loop_ohare_copy['start_ts'])\n",
    "\n",
    "# Agregar columnas adicionales para día y hora\n",
    "df_trips_loop_ohare_copy['day'] = df_trips_loop_ohare_copy['start_ts'].dt.date\n",
    "df_trips_loop_ohare_copy['hour'] = df_trips_loop_ohare_copy['start_ts'].dt.hour\n",
    "\n",
    "# Agrupar por día y calcular el total de duration_seconds\n",
    "total_per_day_copy = df_trips_loop_ohare_copy.groupby('day')['duration_seconds'].sum()\n",
    "\n",
    "# Agrupar por hora y calcular el total de duration_seconds\n",
    "total_per_hour_copy = df_trips_loop_ohare_copy.groupby('hour')['duration_seconds'].sum()\n",
    "\n",
    "# Agrupar por día y weather_conditions y calcular el total de duration_seconds\n",
    "total_per_day_weather_copy = df_trips_loop_ohare_copy.groupby(['day', 'weather_conditions'])['duration_seconds'].sum()\n",
    "\n",
    "# Agrupar por hora y weather_conditions y calcular el total de duration_seconds\n",
    "total_per_hour_weather_copy = df_trips_loop_ohare_copy.groupby(['hour', 'weather_conditions'])['duration_seconds'].sum()\n",
    "\n",
    "# Mostrar los resultados\n",
    "print(\"\\nTotal duration seconds per day:\")\n",
    "print(total_per_day_copy)\n",
    "\n",
    "print(\"\\nTotal duration seconds per hour:\")\n",
    "print(total_per_hour_copy)\n",
    "\n",
    "print(\"\\nTotal duration seconds per day and weather conditions:\")\n",
    "print(total_per_day_weather_copy)\n",
    "\n",
    "print(\"\\nTotal duration seconds per hour and weather conditions:\")\n",
    "print(total_per_hour_weather_copy)"
   ]
  },
  {
   "cell_type": "markdown",
   "metadata": {},
   "source": [
    "## 2.7 Descripción estadística de los datos originales vs los datos eliminados las filas duplicadas (df_trips_loop_ohare vs df_trips_loop_ohare_copy)"
   ]
  },
  {
   "cell_type": "code",
   "execution_count": 33,
   "metadata": {
    "scrolled": false
   },
   "outputs": [
    {
     "name": "stdout",
     "output_type": "stream",
     "text": [
      "Descripción estadística para la copia del Dataframe original\n",
      "       duration_seconds        hour\n",
      "count        871.000000  871.000000\n",
      "mean        2096.308840   11.501722\n",
      "std          782.274717    4.198487\n",
      "min            0.000000    0.000000\n",
      "25%         1440.000000    8.000000\n",
      "50%         2015.000000   12.000000\n",
      "75%         2584.000000   15.000000\n",
      "max         7440.000000   23.000000\n",
      "\n",
      "Descripción estadística para el Dataframe original\n",
      "       duration_seconds\n",
      "count       1068.000000\n",
      "mean        2071.731273\n",
      "std          769.461125\n",
      "min            0.000000\n",
      "25%         1438.250000\n",
      "50%         1980.000000\n",
      "75%         2580.000000\n",
      "max         7440.000000\n",
      "\n",
      "Varianza del DataFrame df_trips_loop_ohare:\n",
      "duration_seconds    592070.423501\n",
      "dtype: float64\n",
      "\n",
      "Varianza del DataFrame df_trips_loop_ohare_copy:\n",
      "duration_seconds    611953.733244\n",
      "hour                    17.627296\n",
      "dtype: float64\n"
     ]
    },
    {
     "data": {
      "image/png": "[encoded data removed]",
      "text/plain": [
       "<Figure size 640x480 with 1 Axes>"
      ]
     },
     "metadata": {},
     "output_type": "display_data"
    },
    {
     "data": {
      "image/png": "[encoded data removed]",
      "text/plain": [
       "<Figure size 640x480 with 1 Axes>"
      ]
     },
     "metadata": {},
     "output_type": "display_data"
    }
   ],
   "source": [
    "print(\"Descripción estadística para la copia del Dataframe original\")\n",
    "print(df_trips_loop_ohare_copy.describe())\n",
    "\n",
    "print()\n",
    "\n",
    "print(\"Descripción estadística para el Dataframe original\")\n",
    "print(df_trips_loop_ohare.describe())\n",
    "\n",
    "print()\n",
    "\n",
    "# Calcular la varianza para df_trips_loop_ohare\n",
    "variance_original = df_trips_loop_ohare.var(numeric_only=True)\n",
    "print(\"Varianza del DataFrame df_trips_loop_ohare:\")\n",
    "print(variance_original)\n",
    "\n",
    "# Calcular la varianza para df_trips_loop_ohare_copy\n",
    "variance_copy = df_trips_loop_ohare_copy.var(numeric_only=True)\n",
    "print(\"\\nVarianza del DataFrame df_trips_loop_ohare_copy:\")\n",
    "print(variance_copy)\n",
    "\n",
    "df_trips_loop_ohare['duration_seconds'].hist(alpha=0.5, label='Original', bins=30)\n",
    "df_trips_loop_ohare_copy['duration_seconds'].hist(alpha=0.5, label='Copy', bins=30)\n",
    "plt.legend()\n",
    "plt.title('Duration distribution (seconds)')\n",
    "plt.xlabel('Duration (seconds)')\n",
    "plt.ylabel('Frequency')\n",
    "plt.show()\n",
    "\n",
    "plt.boxplot([df_trips_loop_ohare['duration_seconds'], df_trips_loop_ohare_copy['duration_seconds']], \n",
    "            labels=['Original', 'Copy'])\n",
    "plt.title('Duration boxplot by dataframe')\n",
    "plt.ylabel('Duration (seconds)')\n",
    "plt.show()"
   ]
  },
  {
   "cell_type": "markdown",
   "metadata": {},
   "source": [
    "### 2.7.1 Comentario de hallazgos encontrados"
   ]
  },
  {
   "cell_type": "markdown",
   "metadata": {},
   "source": [
    "Al comparar los dos dataframes se determina lo siguiente:\n",
    "\n",
    "Varianza y desviación estándar:\n",
    "\n",
    "- Mayor dispersión en df_trips_loop_ohare_copy: La variación ( 611,953.73) y la desviación estándar ( 782.27segundos) son         ligeramente mayores en comparación con el DataFrame original ( 592,070.42y 769.46segundos, respectivamente).\n",
    "\n",
    "Implicación: \n",
    "\n",
    "- Esto indica que en df_trips_loop_ohare_copy hay una mayor diversidad en los tiempos de viaje, con algunos valores que se         desvían más de la media.\n",
    "\n",
    "Cambios estructurales:\n",
    "\n",
    "- Si df_trips_loop_ohare_copy fue creado a partir de modificaciones del DataFrame original, es probable que estas variaciones     sean causadas por:\n",
    "\n",
    "- Eliminación de filas atípicas como viajes más largos o más cortos que alteraron ligeramente la dispersión de los datos.\n",
    "\n",
    "- Ajustes en las filas duplicadas en la copia, esto podría haber reducido la concentración de ciertos valores y aumentado la       variabilidad.\n",
    "\n",
    "- Distribución similar y diferencia en las métricas que es pequeña, lo que sugiere que los dos DataFrames mantienen una           distribución muy similar de los datos. Esto significa que cualquier análisis basado en los dos DataFrames produciría             resultados   comparables en términos generales.\n",
    "\n",
    "df_trips_loop_ohare: \n",
    "\n",
    "- Muestra tiempos de viaje ligeramente más consistentes, con menos variación en torno a la media.\n",
    "\n",
    "df_trips_loop_ohare_copy: \n",
    "\n",
    "- Tiene un rango de tiempos de viaje un poco más amplio, lo que podría reflejar datos más completos o la influencia de valores     extremos.\n",
    "\n",
    "En conclusión se determina que se puede trabajar con la copia del dataframe original al no representar un riesgo de cambio en la tendencia para los resultados encontrados salvo algunos valores atípicos que no alteran el resultado final. "
   ]
  },
  {
   "cell_type": "markdown",
   "metadata": {},
   "source": [
    "### 2.7.2 Gráfico Duración total por día y condición del clima "
   ]
  },
  {
   "cell_type": "code",
   "execution_count": 34,
   "metadata": {},
   "outputs": [
    {
     "name": "stdout",
     "output_type": "stream",
     "text": [
      "total_per_day_weather_copy no es un DataFrame. Corrigiendo...\n"
     ]
    },
    {
     "data": {
      "image/png": "[encoded data removed]",
      "text/plain": [
       "<Figure size 1000x600 with 1 Axes>"
      ]
     },
     "metadata": {},
     "output_type": "display_data"
    }
   ],
   "source": [
    "# Verificar que total_per_day_weather_copy es un DataFrame\n",
    "if not isinstance(total_per_day_weather_copy, pd.DataFrame):\n",
    "    print(\"total_per_day_weather_copy no es un DataFrame. Corrigiendo...\")\n",
    "    total_per_day_weather_copy = pd.DataFrame(total_per_day_weather_copy)\n",
    "\n",
    "# Asegurarnos de que el DataFrame tiene las columnas necesarias\n",
    "if 'day' not in total_per_day_weather_copy.columns:\n",
    "    total_per_day_weather_copy = total_per_day_weather_copy.reset_index()\n",
    "\n",
    "# Crear la tabla pivote para agrupar por día y condición climática\n",
    "pivot_data = total_per_day_weather_copy.pivot_table(\n",
    "    values='duration_seconds',\n",
    "    index='day',\n",
    "    columns='weather_conditions',\n",
    "    aggfunc='sum',\n",
    "    fill_value=0\n",
    ")\n",
    "\n",
    "# Crear el gráfico de barras apiladas\n",
    "ax = pivot_data.plot(\n",
    "    kind='bar',\n",
    "    stacked=True,\n",
    "    figsize=(10, 6),\n",
    "    colormap='viridis'\n",
    ")\n",
    "\n",
    "# Configuración del gráfico\n",
    "ax.set_title(\"Total Duration by day and weather conditions\", fontsize=14)\n",
    "ax.set_xlabel(\"Day\", fontsize=12)\n",
    "ax.set_ylabel(\"Total duration (seconds)\", fontsize=12)\n",
    "plt.xticks(rotation=45)\n",
    "plt.legend(title=\"Weather conditions\")\n",
    "plt.tight_layout()\n",
    "\n",
    "# Mostrar el gráfico\n",
    "plt.show()"
   ]
  },
  {
   "cell_type": "markdown",
   "metadata": {},
   "source": [
    "### 2.7.3 Gráfico Duración total por hora y condición del clima"
   ]
  },
  {
   "cell_type": "code",
   "execution_count": 35,
   "metadata": {},
   "outputs": [
    {
     "data": {
      "image/png": "[encoded data removed]",
      "text/plain": [
       "<Figure size 1000x600 with 1 Axes>"
      ]
     },
     "metadata": {},
     "output_type": "display_data"
    }
   ],
   "source": [
    "# Restablecer índice para convertir a DataFrame\n",
    "df_total_per_hour_weather_copy = total_per_hour_weather_copy.reset_index()\n",
    "\n",
    "# Crear el gráfico de líneas\n",
    "fig, ax = plt.subplots(figsize=(10, 6))\n",
    "for condition in df_total_per_hour_weather_copy['weather_conditions'].unique():\n",
    "    subset = df_total_per_hour_weather_copy[df_total_per_hour_weather_copy['weather_conditions'] == condition]\n",
    "    ax.plot(subset['hour'], subset['duration_seconds'], marker='o', label=condition)\n",
    "\n",
    "# Configurar etiquetas y leyenda\n",
    "ax.set_title(\"Total duration per hour and weather conditions\")\n",
    "ax.set_xlabel(\"Time of day\")\n",
    "ax.set_ylabel(\"Total duration (seconds)\")\n",
    "ax.legend(title=\"Weather Conditions\")\n",
    "plt.xticks(range(0, 24))\n",
    "plt.grid(alpha=0.3)\n",
    "plt.tight_layout()\n",
    "plt.show()"
   ]
  },
  {
   "cell_type": "markdown",
   "metadata": {},
   "source": [
    "### 2.7.4 Gráfico Duracion total por dia (independiente de la condicion del clima)"
   ]
  },
  {
   "cell_type": "code",
   "execution_count": 36,
   "metadata": {},
   "outputs": [
    {
     "data": {
      "image/png": "[encoded data removed]",
      "text/plain": [
       "<Figure size 1000x600 with 1 Axes>"
      ]
     },
     "metadata": {},
     "output_type": "display_data"
    }
   ],
   "source": [
    "# Sumar independientemente de las condiciones climáticas\n",
    "total_per_day_copy = df_trips_loop_ohare_copy.groupby('day')['duration_seconds'].sum()\n",
    "\n",
    "# Crear gráfico de barras\n",
    "total_per_day_copy.plot(kind='bar', figsize=(10, 6), color='skyblue', alpha=0.8)\n",
    "plt.title(\"Total duration per day\")\n",
    "plt.xlabel(\"Day\")\n",
    "plt.ylabel(\"Total duration (seconds)\")\n",
    "plt.xticks(rotation=45)\n",
    "plt.tight_layout()\n",
    "plt.show()"
   ]
  },
  {
   "cell_type": "markdown",
   "metadata": {},
   "source": [
    "### 2.7.5 Gráfico Duración total por hora (independiente de la condición del clima)"
   ]
  },
  {
   "cell_type": "code",
   "execution_count": 37,
   "metadata": {},
   "outputs": [
    {
     "data": {
      "image/png": "[encoded data removed]",
      "text/plain": [
       "<Figure size 1000x600 with 1 Axes>"
      ]
     },
     "metadata": {},
     "output_type": "display_data"
    }
   ],
   "source": [
    "# Sumar independientemente de las condiciones climáticas\n",
    "total_per_hour_copy = df_trips_loop_ohare_copy.groupby('hour')['duration_seconds'].sum()\n",
    "\n",
    "# Crear gráfico de barras horizontales\n",
    "total_per_hour_copy.sort_index().plot(kind='barh', figsize=(10, 6), color='coral', alpha=0.8)\n",
    "plt.title(\"Total duration per hour\")\n",
    "plt.xlabel(\"Total duration (seconds)\")\n",
    "plt.ylabel(\"Time of day\")\n",
    "plt.tight_layout()\n",
    "plt.show()"
   ]
  },
  {
   "cell_type": "markdown",
   "metadata": {},
   "source": [
    "### 2.7.6 Gráfico Variación de la duracíon total por dia y hora "
   ]
  },
  {
   "cell_type": "code",
   "execution_count": 38,
   "metadata": {
    "scrolled": false
   },
   "outputs": [
    {
     "data": {
      "image/png": "[encoded data removed]",
      "text/plain": [
       "<Figure size 1200x800 with 2 Axes>"
      ]
     },
     "metadata": {},
     "output_type": "display_data"
    }
   ],
   "source": [
    "# Crear una tabla pivote\n",
    "pivot_table = df_trips_loop_ohare_copy.pivot_table(index='day', columns='hour', values='duration_seconds', aggfunc='sum')\n",
    "\n",
    "# Crear el heatmap\n",
    "plt.figure(figsize=(12, 8))\n",
    "sns.heatmap(pivot_table, cmap=\"YlGnBu\", cbar_kws={'label': 'Duración total (segundos)'})\n",
    "plt.title(\"Total duration per day and hour\")\n",
    "plt.xlabel(\"Time of day\")\n",
    "plt.ylabel(\"Day\")\n",
    "plt.tight_layout()\n",
    "plt.show()"
   ]
  },
  {
   "cell_type": "markdown",
   "metadata": {},
   "source": [
    "### 2.7.7 Gráfico Participación de mercado por condición del clima"
   ]
  },
  {
   "cell_type": "code",
   "execution_count": 39,
   "metadata": {},
   "outputs": [
    {
     "data": {
      "image/png": "[encoded data removed]",
      "text/plain": [
       "<Figure size 800x800 with 1 Axes>"
      ]
     },
     "metadata": {},
     "output_type": "display_data"
    }
   ],
   "source": [
    "# Calcular la participación de cada condición climática\n",
    "weather_counts_copy = df_trips_loop_ohare_copy['weather_conditions'].value_counts()\n",
    "\n",
    "# Crear el gráfico de pastel\n",
    "plt.figure(figsize=(8, 8))\n",
    "plt.pie(\n",
    "    weather_counts_copy, \n",
    "    labels=weather_counts_copy.index, \n",
    "    autopct='%1.1f%%', \n",
    "    startangle=140, \n",
    "    colors=['#6baed6', '#fd8d3c'],  # Colores personalizables\n",
    "    explode=(0.1, 0)  # Resalta el primer segmento (opcional)\n",
    ")\n",
    "\n",
    "# Configuración del título\n",
    "plt.title(\"Market Share by weather conditions\", fontsize=14)\n",
    "plt.tight_layout()\n",
    "\n",
    "# Mostrar el gráfico\n",
    "plt.show()"
   ]
  },
  {
   "cell_type": "markdown",
   "metadata": {},
   "source": [
    "## 3 Prueba de hipótesis"
   ]
  },
  {
   "cell_type": "markdown",
   "metadata": {},
   "source": [
    "## 3.1 Prueba t (dataframe original)"
   ]
  },
  {
   "cell_type": "code",
   "execution_count": 40,
   "metadata": {},
   "outputs": [
    {
     "name": "stdout",
     "output_type": "stream",
     "text": [
      "Estadístico de Levene: 0.38853489683656073\n",
      "Valor p de Levene: 0.5332038671974493\n",
      "\n",
      "Estadístico t: 6.946177714041499\n",
      "Valor p: 6.517970327099473e-12\n",
      "Tamaño de la muestra - Sábados lluviosos: 180, Sábados soleados: 888\n",
      "Rechazamos la hipótesis nula: La duración promedio de los viajes cambia los sábados lluviosos.\n"
     ]
    }
   ],
   "source": [
    "# Importar la función levene de scipy.stats\n",
    "from scipy.stats import levene, ttest_ind\n",
    "\n",
    "# Convertir la columna start_ts a formato datetime\n",
    "df_trips_loop_ohare['start_ts'] = pd.to_datetime(df_trips_loop_ohare['start_ts'])\n",
    "\n",
    "# Crear columnas para el día de la semana y si es sábado\n",
    "df_trips_loop_ohare['weekday'] = df_trips_loop_ohare['start_ts'].dt.day_name()\n",
    "df_trips_loop_ohare['is_saturday'] = df_trips_loop_ohare['weekday'] == 'Saturday'\n",
    "\n",
    "# Filtrar sábados soleados (Good) y lluviosos (Bad)\n",
    "rainy_saturdays = df_trips_loop_ohare[(df_trips_loop_ohare['is_saturday']) & (df_trips_loop_ohare['weather_conditions'] == 'Bad')]\n",
    "sunny_saturdays = df_trips_loop_ohare[(df_trips_loop_ohare['is_saturday']) & (df_trips_loop_ohare['weather_conditions'] == 'Good')]\n",
    "\n",
    "# Extraer duraciones de viaje para cada grupo\n",
    "rainy_durations = rainy_saturdays['duration_seconds']\n",
    "sunny_durations = sunny_saturdays['duration_seconds']\n",
    "\n",
    "# Prueba de Levene para igualdad de varianzas\n",
    "levene_stat, levene_p_value = levene(rainy_durations, sunny_durations)\n",
    "\n",
    "# Mostrar resultados de la prueba de Levene\n",
    "print(f\"Estadístico de Levene: {levene_stat}\")\n",
    "print(f\"Valor p de Levene: {levene_p_value}\")\n",
    "\n",
    "# Determinar si usar varianzas iguales o desiguales en la prueba t\n",
    "equal_var = levene_p_value > 0.05\n",
    "\n",
    "# Realizar la prueba t de Student para comparar las medias\n",
    "t_stat, p_value = ttest_ind(rainy_durations, sunny_durations, equal_var=equal_var)\n",
    "\n",
    "# Mostrar resultados\n",
    "print(f\"\\nEstadístico t: {t_stat}\")\n",
    "print(f\"Valor p: {p_value}\")\n",
    "print(f\"Tamaño de la muestra - Sábados lluviosos: {len(rainy_durations)}, Sábados soleados: {len(sunny_durations)}\")\n",
    "\n",
    "# Conclusión de la prueba de hipótesis\n",
    "alpha = 0.05\n",
    "if p_value < alpha:\n",
    "    print(\"Rechazamos la hipótesis nula: La duración promedio de los viajes cambia los sábados lluviosos.\")\n",
    "else:\n",
    "    print(\"No podemos rechazar la hipótesis nula: No hay evidencia suficiente para decir que la duración promedio cambia.\")"
   ]
  },
  {
   "cell_type": "markdown",
   "metadata": {},
   "source": [
    "### 3.1.1 Comentarios de hallazgos encontrados"
   ]
  },
  {
   "cell_type": "markdown",
   "metadata": {},
   "source": [
    "El valor de la prueba de Levenne es mayor a 0.05 y asegura que se utilizo el supuesto correcto de que las varianzas son iguales. "
   ]
  },
  {
   "cell_type": "markdown",
   "metadata": {},
   "source": [
    "## 3.2 Prueba t (dataframe copia del original)"
   ]
  },
  {
   "cell_type": "code",
   "execution_count": 41,
   "metadata": {},
   "outputs": [
    {
     "name": "stdout",
     "output_type": "stream",
     "text": [
      "Estadístico de Levene: 0.000586951625283602\n",
      "Valor p de Levene: 0.9806770360671218\n",
      "\n",
      "Estadístico t: 5.427957689754561\n",
      "Valor p: 7.397770692813658e-08\n",
      "Tamaño de la muestra - Sábados lluviosos: 148, Sábados soleados: 723\n",
      "Rechazamos la hipótesis nula: La duración promedio de los viajes cambia los sábados lluviosos.\n"
     ]
    }
   ],
   "source": [
    "# Convertir la columna start_ts a formato datetime\n",
    "df_trips_loop_ohare_copy['start_ts'] = pd.to_datetime(df_trips_loop_ohare_copy['start_ts'])\n",
    "\n",
    "# Crear columnas para el día de la semana y si es sábado\n",
    "df_trips_loop_ohare_copy['weekday'] = df_trips_loop_ohare_copy['start_ts'].dt.day_name()\n",
    "df_trips_loop_ohare_copy['is_saturday'] = df_trips_loop_ohare_copy['weekday'] == 'Saturday'\n",
    "\n",
    "# Filtrar sábados soleados (Good) y lluviosos (Bad)\n",
    "rainy_saturdays_copy = df_trips_loop_ohare_copy[(df_trips_loop_ohare_copy['is_saturday']) & (df_trips_loop_ohare_copy['weather_conditions'] == 'Bad')]\n",
    "sunny_saturdays_copy = df_trips_loop_ohare_copy[(df_trips_loop_ohare_copy['is_saturday']) & (df_trips_loop_ohare_copy['weather_conditions'] == 'Good')]\n",
    "\n",
    "# Extraer duraciones de viaje para cada grupo\n",
    "rainy_durations_copy = rainy_saturdays_copy['duration_seconds']\n",
    "sunny_durations_copy = sunny_saturdays_copy['duration_seconds']\n",
    "\n",
    "# Prueba de Levene para igualdad de varianzas\n",
    "levene_stat, levene_p_value = levene(rainy_durations_copy, sunny_durations_copy)\n",
    "\n",
    "# Mostrar resultados de la prueba de Levene\n",
    "print(f\"Estadístico de Levene: {levene_stat}\")\n",
    "print(f\"Valor p de Levene: {levene_p_value}\")\n",
    "\n",
    "# Determinar si usar varianzas iguales o desiguales en la prueba t\n",
    "equal_var = levene_p_value > 0.05\n",
    "\n",
    "# Realizar la prueba t de Student para comparar las medias\n",
    "t_stat, p_value = ttest_ind(rainy_durations_copy, sunny_durations_copy, equal_var=equal_var)\n",
    "\n",
    "# Mostrar resultados\n",
    "print(f\"\\nEstadístico t: {t_stat}\")\n",
    "print(f\"Valor p: {p_value}\")\n",
    "print(f\"Tamaño de la muestra - Sábados lluviosos: {len(rainy_durations_copy)}, Sábados soleados: {len(sunny_durations_copy)}\")\n",
    "\n",
    "# Conclusión de la prueba de hipótesis\n",
    "alpha = 0.05\n",
    "if p_value < alpha:\n",
    "    print(\"Rechazamos la hipótesis nula: La duración promedio de los viajes cambia los sábados lluviosos.\")\n",
    "else:\n",
    "    print(\"No podemos rechazar la hipótesis nula: No hay evidencia suficiente para decir que la duración promedio cambia.\")"
   ]
  },
  {
   "cell_type": "markdown",
   "metadata": {},
   "source": [
    "### 3.2.1 Comentario a los hallazgos encontrados"
   ]
  },
  {
   "cell_type": "markdown",
   "metadata": {},
   "source": [
    "El valor de la prueba de Levenne es mayor a 0.05 y asegura que se utilizo el supuesto correcto de que las varianzas son iguales por lo que se rechaza la hip+otesis nula al ser el valor p menor a 0.05."
   ]
  },
  {
   "cell_type": "markdown",
   "metadata": {},
   "source": [
    "<div class=\"alert alert-block alert-danger\">\n",
    "<b>Comentario del revisor</b> <a class=\"tocSkip\"></a>\n",
    "\n",
    "El parametro equal_var es muy importante para este tipo de pruebas ya que le estamos indicando si las varianzas para cada conjunto son diferentes (False). Si fueran iguales (True), puede que el resultado cambie, ya que se calcula de forma diferente. Mas que nada cuando la distribucion de las muestras son desiguales (como en este caso).\n",
    "Por esto es importante, cuando realizamos esta prueba (t student). Confirmar si las varianzas son iguales o no para ambos conjuntos. Para esto se realizan **pruebas estadisticas** (como **levene**) para identificar si son iguales o no las varianzas.\n",
    "\n",
    "Al realizarla ajusta el parametro si fuera necesario .</div>\n",
    "\n",
    "<div class=\"alert alert-block alert-success\">\n",
    "\n",
    "<b>Comentario del revisor #2</b> <a class=\"tocSkip\"></a>\n",
    "\n",
    "Corregido, perfecto.</div>\n",
    "<div class=\"alert alert-block alert-warning\">\n",
    "<b>Comentario del revisor</b> <a class=\"tocSkip\"></a>\n",
    "\n",
    "Simplemente a modo de consejo, cuando realizamos este tipo de prueba, los outliers pueden modificarla. Por lo que generalmente se recomienda tratarlos antes  de realizar la prueba.\n",
    "</div>"
   ]
  },
  {
   "cell_type": "markdown",
   "metadata": {},
   "source": [
    "### 3.2.3 Gráfico Distribucion de viajes por condición del clima y valores atípicos"
   ]
  },
  {
   "cell_type": "code",
   "execution_count": 42,
   "metadata": {},
   "outputs": [
    {
     "data": {
      "image/png": "[encoded data removed]",
      "text/plain": [
       "<Figure size 1200x600 with 1 Axes>"
      ]
     },
     "metadata": {},
     "output_type": "display_data"
    },
    {
     "data": {
      "image/png": "[encoded data removed]",
      "text/plain": [
       "<Figure size 800x600 with 1 Axes>"
      ]
     },
     "metadata": {},
     "output_type": "display_data"
    }
   ],
   "source": [
    "# Histograma de las duraciones de los viajes\n",
    "plt.figure(figsize=(12, 6))\n",
    "\n",
    "# Histograma para sábados lluviosos\n",
    "plt.hist(rainy_durations_copy, bins=20, alpha=0.7, label='Rainy Saturdayss (Bad)', color='blue', edgecolor='black')\n",
    "\n",
    "# Histograma para sábados soleados\n",
    "plt.hist(sunny_durations_copy, bins=20, alpha=0.7, label='Sunny Saturdays (Good)', color='orange', edgecolor='black')\n",
    "\n",
    "# Añadir títulos y etiquetas\n",
    "plt.title('Distribution of Trip Durations on Sunny vs. Rainy Saturdays', fontsize=14)\n",
    "plt.xlabel('Trip duration (seconds)', fontsize=12)\n",
    "plt.ylabel('Frequency', fontsize=12)\n",
    "plt.legend(fontsize=12)\n",
    "\n",
    "# Mostrar el gráfico\n",
    "plt.show()\n",
    "\n",
    "# Crear un diagrama de cajas (boxplot) para comparar las duraciones\n",
    "plt.figure(figsize=(8, 6))\n",
    "\n",
    "# Boxplot\n",
    "plt.boxplot([rainy_durations_copy, sunny_durations_copy], labels=['Rainy (Bad)', 'Sunny (Good)'], patch_artist=True,\n",
    "            boxprops=dict(facecolor='lightblue', color='black'), medianprops=dict(color='red'))\n",
    "\n",
    "# Añadir títulos y etiquetas\n",
    "plt.title('Trip Duration Comparison: Rainy vs. Sunny', fontsize=14)\n",
    "plt.ylabel('Trip duration (seconds)', fontsize=12)\n",
    "\n",
    "# Mostrar el gráfico\n",
    "plt.show()"
   ]
  },
  {
   "cell_type": "markdown",
   "metadata": {},
   "source": [
    "### 3.2.4 Comentario de los hallazgos encontrados"
   ]
  },
  {
   "cell_type": "markdown",
   "metadata": {},
   "source": [
    "Dado que el valor p es mucho menor que alpha 0.05 hay evidencia estadísticamente significativa para rechazar la hipótesis nula y \n",
    "significa que las duraciones promedio de los viajes en sábados lluviosos son significativamente diferentes de las de sábados soleados. Se puede interpretar que Las condiciones climáticas (lluvia o sol) tienen un efecto en la duración promedio de los viajes desde el Loop hasta el Aeropuerto Internacional O'Hare y es posible que los sábados lluviosos causen cambios en el tráfico, velocidad de conducción, o comportamientos de los conductores, afectando las duraciones de los viajes.\n",
    "Se utilizó una prueba de Student para dos muestras independientes debido a la comparación de las medias de dos grupos.\n"
   ]
  },
  {
   "cell_type": "markdown",
   "metadata": {},
   "source": [
    "## 4 Conclusión General"
   ]
  },
  {
   "cell_type": "markdown",
   "metadata": {},
   "source": [
    "Los principales hallazgos derivados del EDA realizados para los registros de viajes en taxis, datos de barrios y trayectos específicos en la ciudad de Chicago son los siguientes:\n",
    "\n",
    "Para el conjunto de datos de compañías de taxis:\n",
    "\n",
    "- Contiene 64 compañías de taxis.\n",
    "- Total de viajes: 137,311 .\n",
    "- Las 10 principales compañías representan el 72,3% del mercado.\n",
    "- La empresa Flash Cab lidera con 19,558 viajes , seguida por Taxi Affiliation Services con 11,422 viajes .\n",
    "- El promedio de viajes de estas 10 compañías es de 9,927.2 viajes.\n",
    "- El rango en la distribución general de los viajes varía desde 2 viajes (mínimo) hasta 19,558 viajes (máximo).\n",
    "- El 50% de las compañías realizan menos de 178 viajes.\n",
    "- El gráfico de barras muestra la cantidad de viajes realizados por las 10 principales compañías.\n",
    "- El gráfico de pastel representa la participación del mercado de estas compañías con un 27.7% restante distribuido entre otras   54 empresas.\n",
    "- El boxplot indica la dispersión de los viajes con un sesgo hacia pocas compañías dominantes.\n",
    "- El histograma muestra la distribución de los viajes por compañía y presenta una asimetría positiva significativa. (hay más       valores distintos hacia la derecha de la media)\n",
    "\n",
    "Para el conjunto de datos de barrios:\n",
    "\n",
    "- Contiene 94 barrios con viajes registrados.\n",
    "- Promedio de viajes por barrio: 599,95 .\n",
    "- Los 10 barrios principales representan el 76,7% del mercado total de viajes.\n",
    "- Loop encabeza la lista con 10,727 viajes promedio , seguida por River North ( 9,523 viajes ) y Streeterville ( 6,664 viajes ).\n",
    "- El rango en la distribución de los viajes varía desde 1,8 viajes hasta 10.727 viajes promedio.\n",
    "- El 50% de los barrios tienen menos de 52 viajes promedio.\n",
    "- El gráfico de barras muestra los viajes promedio en los 10 barrios principales.\n",
    "- El gráfico de pastel ilustra la participación del mercado de los barrios principales con el 23,3% restante distribuido en 84     barrios.\n",
    "- El boxplot revela la presencia de barrios con viajes excepcionales, como Loop y River North.\n",
    "- El histograma muestra los viajes promedio por barrio presentan una distribución asimétrica positiva. (hay más valores           distintos hacia la derecha de la media)\n",
    "\n",
    "La concentración del mercado presente en las 10 principales compañías y barrios dominan el mercado con más del 70% de los viajes registrados. La dispersión de viajes existente en muchas compañías y barrios con volúmenes de viajes bajos, lo que evidencia una alta concentración en pocos actores y la atomizacion de las compañias pequeñas. El análisis geográfico de los barrios céntricos como Loop, River North y Streeterville son los más populares para viajes.\n",
    "\n",
    "Concluyendo que existe una alta concentración en el mercado tanto a nivel de compañías como de barrios, lo cual sugiere que los esfuerzos comerciales o logísticos deben enfocarse en los actores clave, la distribución de viajes indica la necesidad de evaluar estrategias de diversificación para cubrir barrios o compañías menos activas y esto puede usarse para optimizar rutas, ajustar tarifas o planificar expansiones por lo que se recomienda implementar datos temporales para evaluar tendencias por día y horario, analizar trayectos más frecuentes entre los barrios más populares para rentabilizarlos y analizar la relación entre la concentración demográfica y el número de desplazamientos en los barrios.\n",
    "\n",
    "PD: Pongo en tu conocimiento que me ayude con chatGPT para realizar los gráficos y verificar el código, además lo utilice para verificar los ejercicios de SQL especialmente en las subconsultas y copie el código en el ejercicio 6 de SQL porque no logre entender la parte que decía en la línea que empezaba con \"T.\" en las subconsulta. "
   ]
  },
  {
   "cell_type": "markdown",
   "metadata": {},
   "source": [
    "\n",
    "\n",
    "<div class=\"alert alert-block alert-success\">\n",
    "\n",
    "<b>Comentario del revisor</b> <a class=\"tocSkip\"></a>\n",
    "\n",
    "Muy buenas conclusiones generales, excelente resumen.</div>"
   ]
  }
 ],
 "metadata": {
  "ExecuteTimeLog": [
   {
    "duration": 2548,
    "start_time": "2024-11-27T20:28:13.606Z"
   },
   {
    "duration": 3,
    "start_time": "2024-11-27T20:30:15.400Z"
   },
   {
    "duration": 13,
    "start_time": "2024-11-27T20:33:19.231Z"
   },
   {
    "duration": 10,
    "start_time": "2024-11-27T20:33:49.796Z"
   },
   {
    "duration": 8,
    "start_time": "2024-11-27T20:35:10.749Z"
   },
   {
    "duration": 16,
    "start_time": "2024-11-27T20:35:41.911Z"
   },
   {
    "duration": 4,
    "start_time": "2024-11-27T20:38:25.005Z"
   },
   {
    "duration": 5,
    "start_time": "2024-11-27T20:39:16.726Z"
   },
   {
    "duration": 5,
    "start_time": "2024-11-27T20:40:21.730Z"
   },
   {
    "duration": 4,
    "start_time": "2024-11-27T20:45:28.262Z"
   },
   {
    "duration": 5,
    "start_time": "2024-11-27T21:01:12.180Z"
   },
   {
    "duration": 7,
    "start_time": "2024-11-27T21:06:18.096Z"
   },
   {
    "duration": 5,
    "start_time": "2024-11-27T21:12:01.013Z"
   },
   {
    "duration": 5,
    "start_time": "2024-11-27T21:20:48.516Z"
   },
   {
    "duration": 1087,
    "start_time": "2024-11-27T21:24:08.461Z"
   },
   {
    "duration": 3,
    "start_time": "2024-11-27T21:29:07.091Z"
   },
   {
    "duration": 288,
    "start_time": "2024-11-27T21:40:42.728Z"
   },
   {
    "duration": 9,
    "start_time": "2024-11-27T21:44:47.019Z"
   },
   {
    "duration": 11,
    "start_time": "2024-11-27T21:45:44.187Z"
   },
   {
    "duration": 223,
    "start_time": "2024-11-27T21:50:43.181Z"
   },
   {
    "duration": 20,
    "start_time": "2024-11-27T21:51:17.484Z"
   },
   {
    "duration": 8,
    "start_time": "2024-11-27T21:51:35.990Z"
   },
   {
    "duration": 14,
    "start_time": "2024-11-27T21:52:51.913Z"
   },
   {
    "duration": 9,
    "start_time": "2024-11-27T21:53:53.609Z"
   },
   {
    "duration": 7,
    "start_time": "2024-11-27T21:54:10.083Z"
   },
   {
    "duration": 9,
    "start_time": "2024-11-27T21:55:05.548Z"
   },
   {
    "duration": 167,
    "start_time": "2024-11-27T21:58:44.149Z"
   },
   {
    "duration": 158,
    "start_time": "2024-11-27T21:59:18.591Z"
   },
   {
    "duration": 8,
    "start_time": "2024-11-27T22:01:09.355Z"
   },
   {
    "duration": 26,
    "start_time": "2024-11-27T22:05:33.760Z"
   },
   {
    "duration": 24,
    "start_time": "2024-11-27T22:11:53.860Z"
   },
   {
    "duration": 14,
    "start_time": "2024-11-27T22:13:59.030Z"
   },
   {
    "duration": 275,
    "start_time": "2024-11-27T22:17:47.203Z"
   },
   {
    "duration": 7,
    "start_time": "2024-11-27T22:18:04.097Z"
   },
   {
    "duration": 58,
    "start_time": "2024-11-27T22:19:59.706Z"
   },
   {
    "duration": 3,
    "start_time": "2024-11-27T22:22:12.609Z"
   },
   {
    "duration": 3,
    "start_time": "2024-11-27T22:22:43.501Z"
   },
   {
    "duration": 151,
    "start_time": "2024-11-27T22:40:22.383Z"
   },
   {
    "duration": 92,
    "start_time": "2024-11-27T22:48:41.761Z"
   },
   {
    "duration": 256,
    "start_time": "2024-11-27T22:57:26.709Z"
   },
   {
    "duration": 2528,
    "start_time": "2024-11-28T14:52:45.691Z"
   },
   {
    "duration": 14,
    "start_time": "2024-11-28T14:52:48.221Z"
   },
   {
    "duration": 16,
    "start_time": "2024-11-28T14:52:48.237Z"
   },
   {
    "duration": 5,
    "start_time": "2024-11-28T14:52:48.255Z"
   },
   {
    "duration": 3,
    "start_time": "2024-11-28T14:52:48.262Z"
   },
   {
    "duration": 23,
    "start_time": "2024-11-28T14:52:48.267Z"
   },
   {
    "duration": 5,
    "start_time": "2024-11-28T14:52:48.291Z"
   },
   {
    "duration": 2,
    "start_time": "2024-11-28T14:52:48.299Z"
   },
   {
    "duration": 12,
    "start_time": "2024-11-28T14:52:48.303Z"
   },
   {
    "duration": 7,
    "start_time": "2024-11-28T14:52:48.317Z"
   },
   {
    "duration": 3,
    "start_time": "2024-11-28T14:52:48.326Z"
   },
   {
    "duration": 199,
    "start_time": "2024-11-28T14:52:48.331Z"
   },
   {
    "duration": 183,
    "start_time": "2024-11-28T14:52:48.532Z"
   },
   {
    "duration": 94,
    "start_time": "2024-11-28T14:52:48.717Z"
   },
   {
    "duration": 281,
    "start_time": "2024-11-28T14:52:48.812Z"
   },
   {
    "duration": 5,
    "start_time": "2024-11-28T14:52:49.095Z"
   },
   {
    "duration": 4,
    "start_time": "2024-11-28T14:56:20.023Z"
   },
   {
    "duration": 12,
    "start_time": "2024-11-28T14:59:55.562Z"
   },
   {
    "duration": 7,
    "start_time": "2024-11-28T15:01:19.945Z"
   },
   {
    "duration": 4,
    "start_time": "2024-11-28T15:04:30.625Z"
   },
   {
    "duration": 200,
    "start_time": "2024-11-28T15:07:02.967Z"
   },
   {
    "duration": 131,
    "start_time": "2024-11-28T15:14:21.779Z"
   },
   {
    "duration": 81,
    "start_time": "2024-11-28T15:17:21.737Z"
   },
   {
    "duration": 233,
    "start_time": "2024-11-28T15:21:21.557Z"
   },
   {
    "duration": 787,
    "start_time": "2024-11-28T15:22:55.480Z"
   },
   {
    "duration": 11,
    "start_time": "2024-11-28T15:22:56.269Z"
   },
   {
    "duration": 18,
    "start_time": "2024-11-28T15:22:56.282Z"
   },
   {
    "duration": 5,
    "start_time": "2024-11-28T15:22:56.302Z"
   },
   {
    "duration": 2,
    "start_time": "2024-11-28T15:22:56.311Z"
   },
   {
    "duration": 8,
    "start_time": "2024-11-28T15:22:56.315Z"
   },
   {
    "duration": 5,
    "start_time": "2024-11-28T15:22:56.324Z"
   },
   {
    "duration": 4,
    "start_time": "2024-11-28T15:22:56.330Z"
   },
   {
    "duration": 11,
    "start_time": "2024-11-28T15:22:56.335Z"
   },
   {
    "duration": 6,
    "start_time": "2024-11-28T15:22:56.387Z"
   },
   {
    "duration": 3,
    "start_time": "2024-11-28T15:22:56.395Z"
   },
   {
    "duration": 186,
    "start_time": "2024-11-28T15:22:56.400Z"
   },
   {
    "duration": 195,
    "start_time": "2024-11-28T15:22:56.588Z"
   },
   {
    "duration": 144,
    "start_time": "2024-11-28T15:22:56.787Z"
   },
   {
    "duration": 272,
    "start_time": "2024-11-28T15:22:56.933Z"
   },
   {
    "duration": 5,
    "start_time": "2024-11-28T15:22:57.207Z"
   },
   {
    "duration": 3,
    "start_time": "2024-11-28T15:22:57.214Z"
   },
   {
    "duration": 12,
    "start_time": "2024-11-28T15:22:57.219Z"
   },
   {
    "duration": 7,
    "start_time": "2024-11-28T15:22:57.232Z"
   },
   {
    "duration": 3,
    "start_time": "2024-11-28T15:22:57.241Z"
   },
   {
    "duration": 173,
    "start_time": "2024-11-28T15:22:57.245Z"
   },
   {
    "duration": 144,
    "start_time": "2024-11-28T15:22:57.420Z"
   },
   {
    "duration": 94,
    "start_time": "2024-11-28T15:22:57.565Z"
   },
   {
    "duration": 247,
    "start_time": "2024-11-28T15:22:57.661Z"
   },
   {
    "duration": 124,
    "start_time": "2024-11-28T16:08:52.875Z"
   },
   {
    "duration": 5,
    "start_time": "2024-11-28T16:09:24.893Z"
   },
   {
    "duration": 860,
    "start_time": "2024-11-28T17:11:55.502Z"
   },
   {
    "duration": 14,
    "start_time": "2024-11-28T17:11:56.365Z"
   },
   {
    "duration": 16,
    "start_time": "2024-11-28T17:11:56.380Z"
   },
   {
    "duration": 5,
    "start_time": "2024-11-28T17:11:56.398Z"
   },
   {
    "duration": 3,
    "start_time": "2024-11-28T17:11:56.404Z"
   },
   {
    "duration": 8,
    "start_time": "2024-11-28T17:11:56.409Z"
   },
   {
    "duration": 5,
    "start_time": "2024-11-28T17:11:56.418Z"
   },
   {
    "duration": 4,
    "start_time": "2024-11-28T17:11:56.424Z"
   },
   {
    "duration": 3,
    "start_time": "2024-11-28T17:11:56.430Z"
   },
   {
    "duration": 54,
    "start_time": "2024-11-28T17:11:56.437Z"
   },
   {
    "duration": 7,
    "start_time": "2024-11-28T17:11:56.492Z"
   },
   {
    "duration": 4,
    "start_time": "2024-11-28T17:11:56.500Z"
   },
   {
    "duration": 182,
    "start_time": "2024-11-28T17:11:56.506Z"
   },
   {
    "duration": 177,
    "start_time": "2024-11-28T17:11:56.690Z"
   },
   {
    "duration": 152,
    "start_time": "2024-11-28T17:11:56.869Z"
   },
   {
    "duration": 280,
    "start_time": "2024-11-28T17:11:57.023Z"
   },
   {
    "duration": 6,
    "start_time": "2024-11-28T17:11:57.305Z"
   },
   {
    "duration": 3,
    "start_time": "2024-11-28T17:11:57.312Z"
   },
   {
    "duration": 11,
    "start_time": "2024-11-28T17:11:57.317Z"
   },
   {
    "duration": 6,
    "start_time": "2024-11-28T17:11:57.330Z"
   },
   {
    "duration": 3,
    "start_time": "2024-11-28T17:11:57.338Z"
   },
   {
    "duration": 173,
    "start_time": "2024-11-28T17:11:57.343Z"
   },
   {
    "duration": 144,
    "start_time": "2024-11-28T17:11:57.518Z"
   },
   {
    "duration": 92,
    "start_time": "2024-11-28T17:11:57.664Z"
   },
   {
    "duration": 241,
    "start_time": "2024-11-28T17:11:57.758Z"
   },
   {
    "duration": 588,
    "start_time": "2024-11-28T17:44:36.778Z"
   },
   {
    "duration": 10,
    "start_time": "2024-11-28T17:45:01.928Z"
   },
   {
    "duration": 788,
    "start_time": "2024-11-28T17:46:25.075Z"
   },
   {
    "duration": 13,
    "start_time": "2024-11-28T17:46:25.865Z"
   },
   {
    "duration": 15,
    "start_time": "2024-11-28T17:46:25.879Z"
   },
   {
    "duration": 5,
    "start_time": "2024-11-28T17:46:25.896Z"
   },
   {
    "duration": 2,
    "start_time": "2024-11-28T17:46:25.903Z"
   },
   {
    "duration": 7,
    "start_time": "2024-11-28T17:46:25.907Z"
   },
   {
    "duration": 4,
    "start_time": "2024-11-28T17:46:25.916Z"
   },
   {
    "duration": 4,
    "start_time": "2024-11-28T17:46:25.922Z"
   },
   {
    "duration": 3,
    "start_time": "2024-11-28T17:46:25.928Z"
   },
   {
    "duration": 53,
    "start_time": "2024-11-28T17:46:25.934Z"
   },
   {
    "duration": 7,
    "start_time": "2024-11-28T17:46:25.989Z"
   },
   {
    "duration": 4,
    "start_time": "2024-11-28T17:46:25.998Z"
   },
   {
    "duration": 197,
    "start_time": "2024-11-28T17:46:26.003Z"
   },
   {
    "duration": 173,
    "start_time": "2024-11-28T17:46:26.202Z"
   },
   {
    "duration": 140,
    "start_time": "2024-11-28T17:46:26.377Z"
   },
   {
    "duration": 282,
    "start_time": "2024-11-28T17:46:26.519Z"
   },
   {
    "duration": 6,
    "start_time": "2024-11-28T17:46:26.803Z"
   },
   {
    "duration": 4,
    "start_time": "2024-11-28T17:46:26.810Z"
   },
   {
    "duration": 11,
    "start_time": "2024-11-28T17:46:26.816Z"
   },
   {
    "duration": 7,
    "start_time": "2024-11-28T17:46:26.828Z"
   },
   {
    "duration": 3,
    "start_time": "2024-11-28T17:46:26.837Z"
   },
   {
    "duration": 168,
    "start_time": "2024-11-28T17:46:26.841Z"
   },
   {
    "duration": 149,
    "start_time": "2024-11-28T17:46:27.010Z"
   },
   {
    "duration": 97,
    "start_time": "2024-11-28T17:46:27.161Z"
   },
   {
    "duration": 246,
    "start_time": "2024-11-28T17:46:27.260Z"
   },
   {
    "duration": 11,
    "start_time": "2024-11-28T17:46:27.508Z"
   },
   {
    "duration": 320,
    "start_time": "2024-11-28T18:33:53.284Z"
   },
   {
    "duration": 843,
    "start_time": "2024-11-28T18:34:46.221Z"
   },
   {
    "duration": 13,
    "start_time": "2024-11-28T18:34:47.066Z"
   },
   {
    "duration": 20,
    "start_time": "2024-11-28T18:34:47.080Z"
   },
   {
    "duration": 5,
    "start_time": "2024-11-28T18:34:47.102Z"
   },
   {
    "duration": 2,
    "start_time": "2024-11-28T18:34:47.110Z"
   },
   {
    "duration": 7,
    "start_time": "2024-11-28T18:34:47.115Z"
   },
   {
    "duration": 5,
    "start_time": "2024-11-28T18:34:47.123Z"
   },
   {
    "duration": 3,
    "start_time": "2024-11-28T18:34:47.130Z"
   },
   {
    "duration": 3,
    "start_time": "2024-11-28T18:34:47.136Z"
   },
   {
    "duration": 47,
    "start_time": "2024-11-28T18:34:47.140Z"
   },
   {
    "duration": 7,
    "start_time": "2024-11-28T18:34:47.188Z"
   },
   {
    "duration": 3,
    "start_time": "2024-11-28T18:34:47.197Z"
   },
   {
    "duration": 191,
    "start_time": "2024-11-28T18:34:47.202Z"
   },
   {
    "duration": 178,
    "start_time": "2024-11-28T18:34:47.397Z"
   },
   {
    "duration": 146,
    "start_time": "2024-11-28T18:34:47.577Z"
   },
   {
    "duration": 273,
    "start_time": "2024-11-28T18:34:47.725Z"
   },
   {
    "duration": 5,
    "start_time": "2024-11-28T18:34:48.000Z"
   },
   {
    "duration": 4,
    "start_time": "2024-11-28T18:34:48.007Z"
   },
   {
    "duration": 11,
    "start_time": "2024-11-28T18:34:48.013Z"
   },
   {
    "duration": 8,
    "start_time": "2024-11-28T18:34:48.025Z"
   },
   {
    "duration": 3,
    "start_time": "2024-11-28T18:34:48.035Z"
   },
   {
    "duration": 181,
    "start_time": "2024-11-28T18:34:48.040Z"
   },
   {
    "duration": 147,
    "start_time": "2024-11-28T18:34:48.223Z"
   },
   {
    "duration": 94,
    "start_time": "2024-11-28T18:34:48.372Z"
   },
   {
    "duration": 273,
    "start_time": "2024-11-28T18:34:48.468Z"
   },
   {
    "duration": 11,
    "start_time": "2024-11-28T18:34:48.744Z"
   },
   {
    "duration": 311,
    "start_time": "2024-11-28T18:34:48.756Z"
   },
   {
    "duration": 811,
    "start_time": "2024-11-28T19:26:39.912Z"
   },
   {
    "duration": 12,
    "start_time": "2024-11-28T19:26:40.725Z"
   },
   {
    "duration": 16,
    "start_time": "2024-11-28T19:26:40.739Z"
   },
   {
    "duration": 5,
    "start_time": "2024-11-28T19:26:40.757Z"
   },
   {
    "duration": 3,
    "start_time": "2024-11-28T19:26:40.763Z"
   },
   {
    "duration": 25,
    "start_time": "2024-11-28T19:26:40.767Z"
   },
   {
    "duration": 5,
    "start_time": "2024-11-28T19:26:40.793Z"
   },
   {
    "duration": 8,
    "start_time": "2024-11-28T19:26:40.799Z"
   },
   {
    "duration": 3,
    "start_time": "2024-11-28T19:26:40.810Z"
   },
   {
    "duration": 11,
    "start_time": "2024-11-28T19:26:40.816Z"
   },
   {
    "duration": 7,
    "start_time": "2024-11-28T19:26:40.828Z"
   },
   {
    "duration": 3,
    "start_time": "2024-11-28T19:26:40.837Z"
   },
   {
    "duration": 213,
    "start_time": "2024-11-28T19:26:40.842Z"
   },
   {
    "duration": 190,
    "start_time": "2024-11-28T19:26:41.057Z"
   },
   {
    "duration": 145,
    "start_time": "2024-11-28T19:26:41.249Z"
   },
   {
    "duration": 317,
    "start_time": "2024-11-28T19:26:41.395Z"
   },
   {
    "duration": 5,
    "start_time": "2024-11-28T19:26:41.714Z"
   },
   {
    "duration": 4,
    "start_time": "2024-11-28T19:26:41.721Z"
   },
   {
    "duration": 11,
    "start_time": "2024-11-28T19:26:41.727Z"
   },
   {
    "duration": 7,
    "start_time": "2024-11-28T19:26:41.739Z"
   },
   {
    "duration": 4,
    "start_time": "2024-11-28T19:26:41.748Z"
   },
   {
    "duration": 174,
    "start_time": "2024-11-28T19:26:41.753Z"
   },
   {
    "duration": 151,
    "start_time": "2024-11-28T19:26:41.928Z"
   },
   {
    "duration": 88,
    "start_time": "2024-11-28T19:26:42.081Z"
   },
   {
    "duration": 277,
    "start_time": "2024-11-28T19:26:42.171Z"
   },
   {
    "duration": 11,
    "start_time": "2024-11-28T19:26:42.450Z"
   },
   {
    "duration": 315,
    "start_time": "2024-11-28T19:26:42.463Z"
   },
   {
    "duration": 7,
    "start_time": "2024-11-28T23:23:20.765Z"
   },
   {
    "duration": 5,
    "start_time": "2024-11-28T23:24:42.131Z"
   },
   {
    "duration": 4,
    "start_time": "2024-11-28T23:26:48.542Z"
   },
   {
    "duration": 166,
    "start_time": "2024-11-29T12:02:27.501Z"
   },
   {
    "duration": 2679,
    "start_time": "2024-11-29T12:02:53.260Z"
   },
   {
    "duration": 21,
    "start_time": "2024-11-29T12:02:55.942Z"
   },
   {
    "duration": 16,
    "start_time": "2024-11-29T12:02:55.965Z"
   },
   {
    "duration": 6,
    "start_time": "2024-11-29T12:02:55.982Z"
   },
   {
    "duration": 3,
    "start_time": "2024-11-29T12:02:55.990Z"
   },
   {
    "duration": 7,
    "start_time": "2024-11-29T12:02:55.994Z"
   },
   {
    "duration": 5,
    "start_time": "2024-11-29T12:02:56.003Z"
   },
   {
    "duration": 4,
    "start_time": "2024-11-29T12:02:56.009Z"
   },
   {
    "duration": 31,
    "start_time": "2024-11-29T12:02:56.015Z"
   },
   {
    "duration": 13,
    "start_time": "2024-11-29T12:02:56.047Z"
   },
   {
    "duration": 8,
    "start_time": "2024-11-29T12:02:56.061Z"
   },
   {
    "duration": 3,
    "start_time": "2024-11-29T12:02:56.071Z"
   },
   {
    "duration": 204,
    "start_time": "2024-11-29T12:02:56.076Z"
   },
   {
    "duration": 183,
    "start_time": "2024-11-29T12:02:56.284Z"
   },
   {
    "duration": 96,
    "start_time": "2024-11-29T12:02:56.469Z"
   },
   {
    "duration": 291,
    "start_time": "2024-11-29T12:02:56.567Z"
   },
   {
    "duration": 6,
    "start_time": "2024-11-29T12:02:56.860Z"
   },
   {
    "duration": 4,
    "start_time": "2024-11-29T12:02:56.868Z"
   },
   {
    "duration": 13,
    "start_time": "2024-11-29T12:02:56.873Z"
   },
   {
    "duration": 7,
    "start_time": "2024-11-29T12:02:56.887Z"
   },
   {
    "duration": 4,
    "start_time": "2024-11-29T12:02:56.896Z"
   },
   {
    "duration": 178,
    "start_time": "2024-11-29T12:02:56.901Z"
   },
   {
    "duration": 208,
    "start_time": "2024-11-29T12:02:57.081Z"
   },
   {
    "duration": 98,
    "start_time": "2024-11-29T12:02:57.291Z"
   },
   {
    "duration": 257,
    "start_time": "2024-11-29T12:02:57.391Z"
   },
   {
    "duration": 11,
    "start_time": "2024-11-29T12:02:57.649Z"
   },
   {
    "duration": 11,
    "start_time": "2024-11-29T12:02:57.662Z"
   },
   {
    "duration": 321,
    "start_time": "2024-11-29T12:02:57.675Z"
   },
   {
    "duration": 5,
    "start_time": "2024-11-29T12:07:26.320Z"
   },
   {
    "duration": 3,
    "start_time": "2024-11-29T12:11:52.898Z"
   },
   {
    "duration": 14,
    "start_time": "2024-11-29T12:17:46.608Z"
   },
   {
    "duration": 5,
    "start_time": "2024-11-29T15:55:12.150Z"
   },
   {
    "duration": 6,
    "start_time": "2024-11-29T15:58:40.800Z"
   },
   {
    "duration": 830,
    "start_time": "2024-11-29T16:00:27.252Z"
   },
   {
    "duration": 15,
    "start_time": "2024-11-29T16:00:28.084Z"
   },
   {
    "duration": 15,
    "start_time": "2024-11-29T16:00:28.100Z"
   },
   {
    "duration": 5,
    "start_time": "2024-11-29T16:00:28.117Z"
   },
   {
    "duration": 19,
    "start_time": "2024-11-29T16:00:28.124Z"
   },
   {
    "duration": 7,
    "start_time": "2024-11-29T16:00:28.144Z"
   },
   {
    "duration": 5,
    "start_time": "2024-11-29T16:00:28.153Z"
   },
   {
    "duration": 4,
    "start_time": "2024-11-29T16:00:28.160Z"
   },
   {
    "duration": 3,
    "start_time": "2024-11-29T16:00:28.165Z"
   },
   {
    "duration": 11,
    "start_time": "2024-11-29T16:00:28.172Z"
   },
   {
    "duration": 8,
    "start_time": "2024-11-29T16:00:28.184Z"
   },
   {
    "duration": 3,
    "start_time": "2024-11-29T16:00:28.194Z"
   },
   {
    "duration": 183,
    "start_time": "2024-11-29T16:00:28.243Z"
   },
   {
    "duration": 179,
    "start_time": "2024-11-29T16:00:28.428Z"
   },
   {
    "duration": 145,
    "start_time": "2024-11-29T16:00:28.609Z"
   },
   {
    "duration": 301,
    "start_time": "2024-11-29T16:00:28.755Z"
   },
   {
    "duration": 11,
    "start_time": "2024-11-29T16:00:29.058Z"
   },
   {
    "duration": 3,
    "start_time": "2024-11-29T16:00:29.071Z"
   },
   {
    "duration": 12,
    "start_time": "2024-11-29T16:00:29.076Z"
   },
   {
    "duration": 6,
    "start_time": "2024-11-29T16:00:29.090Z"
   },
   {
    "duration": 4,
    "start_time": "2024-11-29T16:00:29.098Z"
   },
   {
    "duration": 175,
    "start_time": "2024-11-29T16:00:29.104Z"
   },
   {
    "duration": 163,
    "start_time": "2024-11-29T16:00:29.281Z"
   },
   {
    "duration": 86,
    "start_time": "2024-11-29T16:00:29.446Z"
   },
   {
    "duration": 292,
    "start_time": "2024-11-29T16:00:29.533Z"
   },
   {
    "duration": 10,
    "start_time": "2024-11-29T16:00:29.827Z"
   },
   {
    "duration": 4,
    "start_time": "2024-11-29T16:00:29.844Z"
   },
   {
    "duration": 2,
    "start_time": "2024-11-29T16:00:29.852Z"
   },
   {
    "duration": 11,
    "start_time": "2024-11-29T16:00:29.856Z"
   },
   {
    "duration": 5,
    "start_time": "2024-11-29T16:00:29.869Z"
   },
   {
    "duration": 12,
    "start_time": "2024-11-29T16:00:29.876Z"
   },
   {
    "duration": 339,
    "start_time": "2024-11-29T16:00:29.889Z"
   },
   {
    "duration": 7,
    "start_time": "2024-11-29T16:10:40.680Z"
   },
   {
    "duration": 805,
    "start_time": "2024-11-29T16:11:01.527Z"
   },
   {
    "duration": 14,
    "start_time": "2024-11-29T16:11:02.334Z"
   },
   {
    "duration": 19,
    "start_time": "2024-11-29T16:11:02.350Z"
   },
   {
    "duration": 5,
    "start_time": "2024-11-29T16:11:02.371Z"
   },
   {
    "duration": 3,
    "start_time": "2024-11-29T16:11:02.379Z"
   },
   {
    "duration": 8,
    "start_time": "2024-11-29T16:11:02.383Z"
   },
   {
    "duration": 5,
    "start_time": "2024-11-29T16:11:02.392Z"
   },
   {
    "duration": 4,
    "start_time": "2024-11-29T16:11:02.398Z"
   },
   {
    "duration": 4,
    "start_time": "2024-11-29T16:11:02.403Z"
   },
   {
    "duration": 11,
    "start_time": "2024-11-29T16:11:02.442Z"
   },
   {
    "duration": 9,
    "start_time": "2024-11-29T16:11:02.454Z"
   },
   {
    "duration": 6,
    "start_time": "2024-11-29T16:11:02.464Z"
   },
   {
    "duration": 192,
    "start_time": "2024-11-29T16:11:02.471Z"
   },
   {
    "duration": 180,
    "start_time": "2024-11-29T16:11:02.667Z"
   },
   {
    "duration": 142,
    "start_time": "2024-11-29T16:11:02.849Z"
   },
   {
    "duration": 280,
    "start_time": "2024-11-29T16:11:02.992Z"
   },
   {
    "duration": 6,
    "start_time": "2024-11-29T16:11:03.274Z"
   },
   {
    "duration": 4,
    "start_time": "2024-11-29T16:11:03.281Z"
   },
   {
    "duration": 12,
    "start_time": "2024-11-29T16:11:03.287Z"
   },
   {
    "duration": 6,
    "start_time": "2024-11-29T16:11:03.301Z"
   },
   {
    "duration": 35,
    "start_time": "2024-11-29T16:11:03.309Z"
   },
   {
    "duration": 154,
    "start_time": "2024-11-29T16:11:03.346Z"
   },
   {
    "duration": 150,
    "start_time": "2024-11-29T16:11:03.502Z"
   },
   {
    "duration": 93,
    "start_time": "2024-11-29T16:11:03.654Z"
   },
   {
    "duration": 280,
    "start_time": "2024-11-29T16:11:03.749Z"
   },
   {
    "duration": 17,
    "start_time": "2024-11-29T16:11:04.031Z"
   },
   {
    "duration": 5,
    "start_time": "2024-11-29T16:11:04.050Z"
   },
   {
    "duration": 3,
    "start_time": "2024-11-29T16:11:04.057Z"
   },
   {
    "duration": 11,
    "start_time": "2024-11-29T16:11:04.062Z"
   },
   {
    "duration": 7,
    "start_time": "2024-11-29T16:11:04.074Z"
   },
   {
    "duration": 13,
    "start_time": "2024-11-29T16:11:04.082Z"
   },
   {
    "duration": 329,
    "start_time": "2024-11-29T16:11:04.097Z"
   },
   {
    "duration": 7,
    "start_time": "2024-11-29T16:21:38.848Z"
   },
   {
    "duration": 10,
    "start_time": "2024-11-29T16:32:06.405Z"
   },
   {
    "duration": 15,
    "start_time": "2024-11-29T16:46:49.365Z"
   },
   {
    "duration": 8,
    "start_time": "2024-11-29T16:59:33.336Z"
   },
   {
    "duration": 296,
    "start_time": "2024-11-29T17:08:04.025Z"
   },
   {
    "duration": 6,
    "start_time": "2024-11-29T17:13:47.802Z"
   },
   {
    "duration": 346,
    "start_time": "2024-11-29T17:14:10.689Z"
   },
   {
    "duration": 620,
    "start_time": "2024-11-29T17:18:24.631Z"
   },
   {
    "duration": 835,
    "start_time": "2024-11-29T17:38:04.904Z"
   },
   {
    "duration": 15,
    "start_time": "2024-11-29T17:38:05.742Z"
   },
   {
    "duration": 20,
    "start_time": "2024-11-29T17:38:05.758Z"
   },
   {
    "duration": 6,
    "start_time": "2024-11-29T17:38:05.781Z"
   },
   {
    "duration": 4,
    "start_time": "2024-11-29T17:38:05.789Z"
   },
   {
    "duration": 9,
    "start_time": "2024-11-29T17:38:05.794Z"
   },
   {
    "duration": 7,
    "start_time": "2024-11-29T17:38:05.805Z"
   },
   {
    "duration": 29,
    "start_time": "2024-11-29T17:38:05.814Z"
   },
   {
    "duration": 4,
    "start_time": "2024-11-29T17:38:05.845Z"
   },
   {
    "duration": 12,
    "start_time": "2024-11-29T17:38:05.854Z"
   },
   {
    "duration": 6,
    "start_time": "2024-11-29T17:38:05.868Z"
   },
   {
    "duration": 3,
    "start_time": "2024-11-29T17:38:05.876Z"
   },
   {
    "duration": 217,
    "start_time": "2024-11-29T17:38:05.881Z"
   },
   {
    "duration": 175,
    "start_time": "2024-11-29T17:38:06.100Z"
   },
   {
    "duration": 136,
    "start_time": "2024-11-29T17:38:06.277Z"
   },
   {
    "duration": 262,
    "start_time": "2024-11-29T17:38:06.415Z"
   },
   {
    "duration": 6,
    "start_time": "2024-11-29T17:38:06.678Z"
   },
   {
    "duration": 3,
    "start_time": "2024-11-29T17:38:06.686Z"
   },
   {
    "duration": 11,
    "start_time": "2024-11-29T17:38:06.691Z"
   },
   {
    "duration": 7,
    "start_time": "2024-11-29T17:38:06.703Z"
   },
   {
    "duration": 31,
    "start_time": "2024-11-29T17:38:06.712Z"
   },
   {
    "duration": 146,
    "start_time": "2024-11-29T17:38:06.745Z"
   },
   {
    "duration": 145,
    "start_time": "2024-11-29T17:38:06.893Z"
   },
   {
    "duration": 87,
    "start_time": "2024-11-29T17:38:07.043Z"
   },
   {
    "duration": 283,
    "start_time": "2024-11-29T17:38:07.143Z"
   },
   {
    "duration": 18,
    "start_time": "2024-11-29T17:38:07.428Z"
   },
   {
    "duration": 4,
    "start_time": "2024-11-29T17:38:07.448Z"
   },
   {
    "duration": 2,
    "start_time": "2024-11-29T17:38:07.457Z"
   },
   {
    "duration": 10,
    "start_time": "2024-11-29T17:38:07.461Z"
   },
   {
    "duration": 6,
    "start_time": "2024-11-29T17:38:07.473Z"
   },
   {
    "duration": 5,
    "start_time": "2024-11-29T17:38:07.480Z"
   },
   {
    "duration": 14,
    "start_time": "2024-11-29T17:38:07.487Z"
   },
   {
    "duration": 47,
    "start_time": "2024-11-29T17:38:07.502Z"
   },
   {
    "duration": 286,
    "start_time": "2024-11-29T17:38:07.551Z"
   },
   {
    "duration": 321,
    "start_time": "2024-11-29T17:38:07.839Z"
   },
   {
    "duration": 223,
    "start_time": "2024-11-29T17:38:08.162Z"
   },
   {
    "duration": 11,
    "start_time": "2024-11-29T17:38:08.386Z"
   },
   {
    "duration": 312,
    "start_time": "2024-11-29T17:38:08.399Z"
   },
   {
    "duration": 348,
    "start_time": "2024-11-29T17:43:49.571Z"
   },
   {
    "duration": 867,
    "start_time": "2024-11-29T17:47:23.309Z"
   },
   {
    "duration": 468,
    "start_time": "2024-11-29T17:56:42.059Z"
   },
   {
    "duration": 2601,
    "start_time": "2024-11-29T19:04:05.197Z"
   },
   {
    "duration": 21,
    "start_time": "2024-11-29T19:04:07.801Z"
   },
   {
    "duration": 17,
    "start_time": "2024-11-29T19:04:07.823Z"
   },
   {
    "duration": 5,
    "start_time": "2024-11-29T19:04:07.841Z"
   },
   {
    "duration": 2,
    "start_time": "2024-11-29T19:04:07.850Z"
   },
   {
    "duration": 6,
    "start_time": "2024-11-29T19:04:07.854Z"
   },
   {
    "duration": 5,
    "start_time": "2024-11-29T19:04:07.862Z"
   },
   {
    "duration": 4,
    "start_time": "2024-11-29T19:04:07.869Z"
   },
   {
    "duration": 30,
    "start_time": "2024-11-29T19:04:07.875Z"
   },
   {
    "duration": 12,
    "start_time": "2024-11-29T19:04:07.906Z"
   },
   {
    "duration": 8,
    "start_time": "2024-11-29T19:04:07.919Z"
   },
   {
    "duration": 3,
    "start_time": "2024-11-29T19:04:07.929Z"
   },
   {
    "duration": 200,
    "start_time": "2024-11-29T19:04:07.934Z"
   },
   {
    "duration": 180,
    "start_time": "2024-11-29T19:04:08.138Z"
   },
   {
    "duration": 96,
    "start_time": "2024-11-29T19:04:08.320Z"
   },
   {
    "duration": 303,
    "start_time": "2024-11-29T19:04:08.418Z"
   },
   {
    "duration": 5,
    "start_time": "2024-11-29T19:04:08.722Z"
   },
   {
    "duration": 4,
    "start_time": "2024-11-29T19:04:08.729Z"
   },
   {
    "duration": 12,
    "start_time": "2024-11-29T19:04:08.735Z"
   },
   {
    "duration": 7,
    "start_time": "2024-11-29T19:04:08.749Z"
   },
   {
    "duration": 4,
    "start_time": "2024-11-29T19:04:08.758Z"
   },
   {
    "duration": 177,
    "start_time": "2024-11-29T19:04:08.764Z"
   },
   {
    "duration": 148,
    "start_time": "2024-11-29T19:04:08.943Z"
   },
   {
    "duration": 91,
    "start_time": "2024-11-29T19:04:09.093Z"
   },
   {
    "duration": 274,
    "start_time": "2024-11-29T19:04:09.185Z"
   },
   {
    "duration": 10,
    "start_time": "2024-11-29T19:04:09.461Z"
   },
   {
    "duration": 4,
    "start_time": "2024-11-29T19:04:09.473Z"
   },
   {
    "duration": 4,
    "start_time": "2024-11-29T19:04:09.478Z"
   },
   {
    "duration": 30,
    "start_time": "2024-11-29T19:04:09.483Z"
   },
   {
    "duration": 6,
    "start_time": "2024-11-29T19:04:09.515Z"
   },
   {
    "duration": 6,
    "start_time": "2024-11-29T19:04:09.522Z"
   },
   {
    "duration": 15,
    "start_time": "2024-11-29T19:04:09.529Z"
   },
   {
    "duration": 9,
    "start_time": "2024-11-29T19:04:09.545Z"
   },
   {
    "duration": 276,
    "start_time": "2024-11-29T19:04:09.556Z"
   },
   {
    "duration": 0,
    "start_time": "2024-11-29T19:04:09.834Z"
   },
   {
    "duration": 0,
    "start_time": "2024-11-29T19:04:09.835Z"
   },
   {
    "duration": 0,
    "start_time": "2024-11-29T19:04:09.837Z"
   },
   {
    "duration": 0,
    "start_time": "2024-11-29T19:04:09.838Z"
   },
   {
    "duration": 0,
    "start_time": "2024-11-29T19:04:09.839Z"
   },
   {
    "duration": 0,
    "start_time": "2024-11-29T19:04:09.840Z"
   },
   {
    "duration": 538,
    "start_time": "2024-11-29T19:08:21.332Z"
   },
   {
    "duration": 806,
    "start_time": "2024-11-29T19:38:25.097Z"
   },
   {
    "duration": 15,
    "start_time": "2024-11-29T19:38:25.906Z"
   },
   {
    "duration": 16,
    "start_time": "2024-11-29T19:38:25.922Z"
   },
   {
    "duration": 5,
    "start_time": "2024-11-29T19:38:25.940Z"
   },
   {
    "duration": 3,
    "start_time": "2024-11-29T19:38:25.947Z"
   },
   {
    "duration": 8,
    "start_time": "2024-11-29T19:38:25.951Z"
   },
   {
    "duration": 5,
    "start_time": "2024-11-29T19:38:25.961Z"
   },
   {
    "duration": 4,
    "start_time": "2024-11-29T19:38:25.968Z"
   },
   {
    "duration": 34,
    "start_time": "2024-11-29T19:38:25.974Z"
   },
   {
    "duration": 12,
    "start_time": "2024-11-29T19:38:26.012Z"
   },
   {
    "duration": 7,
    "start_time": "2024-11-29T19:38:26.026Z"
   },
   {
    "duration": 3,
    "start_time": "2024-11-29T19:38:26.035Z"
   },
   {
    "duration": 207,
    "start_time": "2024-11-29T19:38:26.040Z"
   },
   {
    "duration": 189,
    "start_time": "2024-11-29T19:38:26.249Z"
   },
   {
    "duration": 166,
    "start_time": "2024-11-29T19:38:26.440Z"
   },
   {
    "duration": 305,
    "start_time": "2024-11-29T19:38:26.608Z"
   },
   {
    "duration": 6,
    "start_time": "2024-11-29T19:38:26.916Z"
   },
   {
    "duration": 4,
    "start_time": "2024-11-29T19:38:26.924Z"
   },
   {
    "duration": 13,
    "start_time": "2024-11-29T19:38:26.930Z"
   },
   {
    "duration": 8,
    "start_time": "2024-11-29T19:38:26.945Z"
   },
   {
    "duration": 4,
    "start_time": "2024-11-29T19:38:26.954Z"
   },
   {
    "duration": 178,
    "start_time": "2024-11-29T19:38:26.960Z"
   },
   {
    "duration": 151,
    "start_time": "2024-11-29T19:38:27.140Z"
   },
   {
    "duration": 96,
    "start_time": "2024-11-29T19:38:27.294Z"
   },
   {
    "duration": 283,
    "start_time": "2024-11-29T19:38:27.392Z"
   },
   {
    "duration": 10,
    "start_time": "2024-11-29T19:38:27.677Z"
   },
   {
    "duration": 4,
    "start_time": "2024-11-29T19:38:27.688Z"
   },
   {
    "duration": 2,
    "start_time": "2024-11-29T19:38:27.708Z"
   },
   {
    "duration": 12,
    "start_time": "2024-11-29T19:38:27.712Z"
   },
   {
    "duration": 6,
    "start_time": "2024-11-29T19:38:27.726Z"
   },
   {
    "duration": 5,
    "start_time": "2024-11-29T19:38:27.734Z"
   },
   {
    "duration": 14,
    "start_time": "2024-11-29T19:38:27.741Z"
   },
   {
    "duration": 10,
    "start_time": "2024-11-29T19:38:27.758Z"
   },
   {
    "duration": 721,
    "start_time": "2024-11-29T19:38:27.805Z"
   },
   {
    "duration": 0,
    "start_time": "2024-11-29T19:38:28.528Z"
   },
   {
    "duration": 0,
    "start_time": "2024-11-29T19:38:28.530Z"
   },
   {
    "duration": 0,
    "start_time": "2024-11-29T19:38:28.531Z"
   },
   {
    "duration": 0,
    "start_time": "2024-11-29T19:38:28.532Z"
   },
   {
    "duration": 0,
    "start_time": "2024-11-29T19:38:28.533Z"
   },
   {
    "duration": 0,
    "start_time": "2024-11-29T19:38:28.535Z"
   },
   {
    "duration": 80,
    "start_time": "2024-11-29T19:44:14.887Z"
   },
   {
    "duration": 14,
    "start_time": "2024-11-29T19:45:41.883Z"
   },
   {
    "duration": 4,
    "start_time": "2024-11-29T19:47:06.652Z"
   },
   {
    "duration": 845,
    "start_time": "2024-11-29T19:47:39.975Z"
   },
   {
    "duration": 11,
    "start_time": "2024-11-29T19:47:40.822Z"
   },
   {
    "duration": 18,
    "start_time": "2024-11-29T19:47:40.835Z"
   },
   {
    "duration": 5,
    "start_time": "2024-11-29T19:47:40.856Z"
   },
   {
    "duration": 2,
    "start_time": "2024-11-29T19:47:40.864Z"
   },
   {
    "duration": 8,
    "start_time": "2024-11-29T19:47:40.868Z"
   },
   {
    "duration": 32,
    "start_time": "2024-11-29T19:47:40.877Z"
   },
   {
    "duration": 4,
    "start_time": "2024-11-29T19:47:40.911Z"
   },
   {
    "duration": 3,
    "start_time": "2024-11-29T19:47:40.917Z"
   },
   {
    "duration": 11,
    "start_time": "2024-11-29T19:47:40.924Z"
   },
   {
    "duration": 7,
    "start_time": "2024-11-29T19:47:40.937Z"
   },
   {
    "duration": 4,
    "start_time": "2024-11-29T19:47:40.945Z"
   },
   {
    "duration": 214,
    "start_time": "2024-11-29T19:47:40.950Z"
   },
   {
    "duration": 182,
    "start_time": "2024-11-29T19:47:41.167Z"
   },
   {
    "duration": 147,
    "start_time": "2024-11-29T19:47:41.351Z"
   },
   {
    "duration": 282,
    "start_time": "2024-11-29T19:47:41.499Z"
   },
   {
    "duration": 7,
    "start_time": "2024-11-29T19:47:41.783Z"
   },
   {
    "duration": 14,
    "start_time": "2024-11-29T19:47:41.792Z"
   },
   {
    "duration": 14,
    "start_time": "2024-11-29T19:47:41.808Z"
   },
   {
    "duration": 8,
    "start_time": "2024-11-29T19:47:41.825Z"
   },
   {
    "duration": 4,
    "start_time": "2024-11-29T19:47:41.834Z"
   },
   {
    "duration": 169,
    "start_time": "2024-11-29T19:47:41.839Z"
   },
   {
    "duration": 149,
    "start_time": "2024-11-29T19:47:42.010Z"
   },
   {
    "duration": 103,
    "start_time": "2024-11-29T19:47:42.161Z"
   },
   {
    "duration": 261,
    "start_time": "2024-11-29T19:47:42.265Z"
   },
   {
    "duration": 10,
    "start_time": "2024-11-29T19:47:42.528Z"
   },
   {
    "duration": 5,
    "start_time": "2024-11-29T19:47:42.539Z"
   },
   {
    "duration": 3,
    "start_time": "2024-11-29T19:47:42.547Z"
   },
   {
    "duration": 11,
    "start_time": "2024-11-29T19:47:42.552Z"
   },
   {
    "duration": 9,
    "start_time": "2024-11-29T19:47:42.564Z"
   },
   {
    "duration": 6,
    "start_time": "2024-11-29T19:47:42.605Z"
   },
   {
    "duration": 17,
    "start_time": "2024-11-29T19:47:42.613Z"
   },
   {
    "duration": 11,
    "start_time": "2024-11-29T19:47:42.632Z"
   },
   {
    "duration": 9,
    "start_time": "2024-11-29T19:47:42.645Z"
   },
   {
    "duration": 340,
    "start_time": "2024-11-29T19:47:42.656Z"
   },
   {
    "duration": 331,
    "start_time": "2024-11-29T19:47:42.998Z"
   },
   {
    "duration": 297,
    "start_time": "2024-11-29T19:47:43.331Z"
   },
   {
    "duration": 0,
    "start_time": "2024-11-29T19:47:43.631Z"
   },
   {
    "duration": 0,
    "start_time": "2024-11-29T19:47:43.632Z"
   },
   {
    "duration": 0,
    "start_time": "2024-11-29T19:47:43.633Z"
   },
   {
    "duration": 0,
    "start_time": "2024-11-29T19:47:43.634Z"
   },
   {
    "duration": 250,
    "start_time": "2024-11-29T19:49:23.088Z"
   },
   {
    "duration": 293,
    "start_time": "2024-11-29T19:49:30.206Z"
   },
   {
    "duration": 500,
    "start_time": "2024-11-29T19:49:36.228Z"
   },
   {
    "duration": 247,
    "start_time": "2024-11-29T19:57:51.724Z"
   },
   {
    "duration": 217,
    "start_time": "2024-11-29T20:04:18.996Z"
   },
   {
    "duration": 17,
    "start_time": "2024-11-29T20:13:11.242Z"
   },
   {
    "duration": 17,
    "start_time": "2024-11-29T20:25:19.042Z"
   },
   {
    "duration": 307,
    "start_time": "2024-11-29T20:31:10.408Z"
   },
   {
    "duration": 15,
    "start_time": "2024-11-29T21:21:13.542Z"
   },
   {
    "duration": 12,
    "start_time": "2024-11-29T21:38:32.641Z"
   },
   {
    "duration": 294,
    "start_time": "2024-11-29T21:40:47.812Z"
   },
   {
    "duration": 816,
    "start_time": "2024-11-29T21:49:19.679Z"
   },
   {
    "duration": 13,
    "start_time": "2024-11-29T21:49:20.498Z"
   },
   {
    "duration": 17,
    "start_time": "2024-11-29T21:49:20.512Z"
   },
   {
    "duration": 5,
    "start_time": "2024-11-29T21:49:20.532Z"
   },
   {
    "duration": 4,
    "start_time": "2024-11-29T21:49:20.540Z"
   },
   {
    "duration": 7,
    "start_time": "2024-11-29T21:49:20.546Z"
   },
   {
    "duration": 4,
    "start_time": "2024-11-29T21:49:20.555Z"
   },
   {
    "duration": 4,
    "start_time": "2024-11-29T21:49:20.562Z"
   },
   {
    "duration": 37,
    "start_time": "2024-11-29T21:49:20.568Z"
   },
   {
    "duration": 13,
    "start_time": "2024-11-29T21:49:20.610Z"
   },
   {
    "duration": 8,
    "start_time": "2024-11-29T21:49:20.625Z"
   },
   {
    "duration": 3,
    "start_time": "2024-11-29T21:49:20.634Z"
   },
   {
    "duration": 205,
    "start_time": "2024-11-29T21:49:20.639Z"
   },
   {
    "duration": 188,
    "start_time": "2024-11-29T21:49:20.846Z"
   },
   {
    "duration": 151,
    "start_time": "2024-11-29T21:49:21.036Z"
   },
   {
    "duration": 284,
    "start_time": "2024-11-29T21:49:21.189Z"
   },
   {
    "duration": 5,
    "start_time": "2024-11-29T21:49:21.475Z"
   },
   {
    "duration": 4,
    "start_time": "2024-11-29T21:49:21.482Z"
   },
   {
    "duration": 27,
    "start_time": "2024-11-29T21:49:21.488Z"
   },
   {
    "duration": 7,
    "start_time": "2024-11-29T21:49:21.517Z"
   },
   {
    "duration": 4,
    "start_time": "2024-11-29T21:49:21.526Z"
   },
   {
    "duration": 169,
    "start_time": "2024-11-29T21:49:21.532Z"
   },
   {
    "duration": 152,
    "start_time": "2024-11-29T21:49:21.705Z"
   },
   {
    "duration": 102,
    "start_time": "2024-11-29T21:49:21.859Z"
   },
   {
    "duration": 251,
    "start_time": "2024-11-29T21:49:21.962Z"
   },
   {
    "duration": 9,
    "start_time": "2024-11-29T21:49:22.215Z"
   },
   {
    "duration": 4,
    "start_time": "2024-11-29T21:49:22.226Z"
   },
   {
    "duration": 3,
    "start_time": "2024-11-29T21:49:22.234Z"
   },
   {
    "duration": 11,
    "start_time": "2024-11-29T21:49:22.238Z"
   },
   {
    "duration": 6,
    "start_time": "2024-11-29T21:49:22.250Z"
   },
   {
    "duration": 6,
    "start_time": "2024-11-29T21:49:22.258Z"
   },
   {
    "duration": 53,
    "start_time": "2024-11-29T21:49:22.266Z"
   },
   {
    "duration": 329,
    "start_time": "2024-11-29T21:49:22.320Z"
   },
   {
    "duration": 137,
    "start_time": "2024-11-29T21:49:22.652Z"
   },
   {
    "duration": 0,
    "start_time": "2024-11-29T21:49:22.791Z"
   },
   {
    "duration": 0,
    "start_time": "2024-11-29T21:49:22.792Z"
   },
   {
    "duration": 0,
    "start_time": "2024-11-29T21:49:22.804Z"
   },
   {
    "duration": 0,
    "start_time": "2024-11-29T21:49:22.806Z"
   },
   {
    "duration": 0,
    "start_time": "2024-11-29T21:49:22.808Z"
   },
   {
    "duration": 0,
    "start_time": "2024-11-29T21:49:22.809Z"
   },
   {
    "duration": 0,
    "start_time": "2024-11-29T21:49:22.810Z"
   },
   {
    "duration": 0,
    "start_time": "2024-11-29T21:49:22.811Z"
   },
   {
    "duration": 381,
    "start_time": "2024-11-29T21:58:15.008Z"
   },
   {
    "duration": 314,
    "start_time": "2024-11-29T21:58:39.905Z"
   },
   {
    "duration": 14,
    "start_time": "2024-11-29T21:59:29.728Z"
   },
   {
    "duration": 853,
    "start_time": "2024-11-29T22:01:53.036Z"
   },
   {
    "duration": 13,
    "start_time": "2024-11-29T22:01:53.891Z"
   },
   {
    "duration": 15,
    "start_time": "2024-11-29T22:01:53.905Z"
   },
   {
    "duration": 5,
    "start_time": "2024-11-29T22:01:53.922Z"
   },
   {
    "duration": 2,
    "start_time": "2024-11-29T22:01:53.929Z"
   },
   {
    "duration": 7,
    "start_time": "2024-11-29T22:01:53.933Z"
   },
   {
    "duration": 4,
    "start_time": "2024-11-29T22:01:53.943Z"
   },
   {
    "duration": 4,
    "start_time": "2024-11-29T22:01:53.949Z"
   },
   {
    "duration": 3,
    "start_time": "2024-11-29T22:01:53.955Z"
   },
   {
    "duration": 53,
    "start_time": "2024-11-29T22:01:53.963Z"
   },
   {
    "duration": 8,
    "start_time": "2024-11-29T22:01:54.018Z"
   },
   {
    "duration": 4,
    "start_time": "2024-11-29T22:01:54.028Z"
   },
   {
    "duration": 211,
    "start_time": "2024-11-29T22:01:54.034Z"
   },
   {
    "duration": 186,
    "start_time": "2024-11-29T22:01:54.247Z"
   },
   {
    "duration": 157,
    "start_time": "2024-11-29T22:01:54.435Z"
   },
   {
    "duration": 270,
    "start_time": "2024-11-29T22:01:54.595Z"
   },
   {
    "duration": 5,
    "start_time": "2024-11-29T22:01:54.867Z"
   },
   {
    "duration": 4,
    "start_time": "2024-11-29T22:01:54.874Z"
   },
   {
    "duration": 29,
    "start_time": "2024-11-29T22:01:54.880Z"
   },
   {
    "duration": 7,
    "start_time": "2024-11-29T22:01:54.911Z"
   },
   {
    "duration": 4,
    "start_time": "2024-11-29T22:01:54.919Z"
   },
   {
    "duration": 162,
    "start_time": "2024-11-29T22:01:54.925Z"
   },
   {
    "duration": 148,
    "start_time": "2024-11-29T22:01:55.088Z"
   },
   {
    "duration": 96,
    "start_time": "2024-11-29T22:01:55.238Z"
   },
   {
    "duration": 273,
    "start_time": "2024-11-29T22:01:55.336Z"
   },
   {
    "duration": 11,
    "start_time": "2024-11-29T22:01:55.611Z"
   },
   {
    "duration": 5,
    "start_time": "2024-11-29T22:01:55.624Z"
   },
   {
    "duration": 3,
    "start_time": "2024-11-29T22:01:55.633Z"
   },
   {
    "duration": 11,
    "start_time": "2024-11-29T22:01:55.637Z"
   },
   {
    "duration": 6,
    "start_time": "2024-11-29T22:01:55.650Z"
   },
   {
    "duration": 6,
    "start_time": "2024-11-29T22:01:55.658Z"
   },
   {
    "duration": 51,
    "start_time": "2024-11-29T22:01:55.665Z"
   },
   {
    "duration": 311,
    "start_time": "2024-11-29T22:01:55.718Z"
   },
   {
    "duration": 135,
    "start_time": "2024-11-29T22:01:56.032Z"
   },
   {
    "duration": 0,
    "start_time": "2024-11-29T22:01:56.168Z"
   },
   {
    "duration": 0,
    "start_time": "2024-11-29T22:01:56.171Z"
   },
   {
    "duration": 0,
    "start_time": "2024-11-29T22:01:56.171Z"
   },
   {
    "duration": 0,
    "start_time": "2024-11-29T22:01:56.176Z"
   },
   {
    "duration": 0,
    "start_time": "2024-11-29T22:01:56.178Z"
   },
   {
    "duration": 0,
    "start_time": "2024-11-29T22:01:56.179Z"
   },
   {
    "duration": 0,
    "start_time": "2024-11-29T22:01:56.180Z"
   },
   {
    "duration": 0,
    "start_time": "2024-11-29T22:01:56.182Z"
   },
   {
    "duration": 286,
    "start_time": "2024-11-29T22:12:01.887Z"
   },
   {
    "duration": 351,
    "start_time": "2024-11-29T22:12:13.363Z"
   },
   {
    "duration": 294,
    "start_time": "2024-11-29T22:12:17.864Z"
   },
   {
    "duration": 288,
    "start_time": "2024-11-29T22:12:20.740Z"
   },
   {
    "duration": 460,
    "start_time": "2024-11-29T22:12:25.063Z"
   },
   {
    "duration": 210,
    "start_time": "2024-11-29T22:12:28.695Z"
   },
   {
    "duration": 124,
    "start_time": "2024-11-29T22:12:34.898Z"
   },
   {
    "duration": 13,
    "start_time": "2024-11-29T22:16:35.945Z"
   },
   {
    "duration": 13,
    "start_time": "2024-11-29T22:16:44.877Z"
   },
   {
    "duration": 310,
    "start_time": "2024-11-29T22:16:58.445Z"
   },
   {
    "duration": 882,
    "start_time": "2024-11-29T22:17:26.649Z"
   },
   {
    "duration": 14,
    "start_time": "2024-11-29T22:17:27.533Z"
   },
   {
    "duration": 19,
    "start_time": "2024-11-29T22:17:27.549Z"
   },
   {
    "duration": 7,
    "start_time": "2024-11-29T22:17:27.572Z"
   },
   {
    "duration": 4,
    "start_time": "2024-11-29T22:17:27.581Z"
   },
   {
    "duration": 25,
    "start_time": "2024-11-29T22:17:27.587Z"
   },
   {
    "duration": 10,
    "start_time": "2024-11-29T22:17:27.613Z"
   },
   {
    "duration": 5,
    "start_time": "2024-11-29T22:17:27.624Z"
   },
   {
    "duration": 4,
    "start_time": "2024-11-29T22:17:27.631Z"
   },
   {
    "duration": 13,
    "start_time": "2024-11-29T22:17:27.639Z"
   },
   {
    "duration": 10,
    "start_time": "2024-11-29T22:17:27.654Z"
   },
   {
    "duration": 39,
    "start_time": "2024-11-29T22:17:27.666Z"
   },
   {
    "duration": 198,
    "start_time": "2024-11-29T22:17:27.707Z"
   },
   {
    "duration": 182,
    "start_time": "2024-11-29T22:17:27.907Z"
   },
   {
    "duration": 160,
    "start_time": "2024-11-29T22:17:28.092Z"
   },
   {
    "duration": 298,
    "start_time": "2024-11-29T22:17:28.254Z"
   },
   {
    "duration": 5,
    "start_time": "2024-11-29T22:17:28.556Z"
   },
   {
    "duration": 6,
    "start_time": "2024-11-29T22:17:28.562Z"
   },
   {
    "duration": 12,
    "start_time": "2024-11-29T22:17:28.570Z"
   },
   {
    "duration": 8,
    "start_time": "2024-11-29T22:17:28.606Z"
   },
   {
    "duration": 3,
    "start_time": "2024-11-29T22:17:28.616Z"
   },
   {
    "duration": 159,
    "start_time": "2024-11-29T22:17:28.621Z"
   },
   {
    "duration": 166,
    "start_time": "2024-11-29T22:17:28.782Z"
   },
   {
    "duration": 101,
    "start_time": "2024-11-29T22:17:28.950Z"
   },
   {
    "duration": 254,
    "start_time": "2024-11-29T22:17:29.053Z"
   },
   {
    "duration": 11,
    "start_time": "2024-11-29T22:17:29.309Z"
   },
   {
    "duration": 5,
    "start_time": "2024-11-29T22:17:29.322Z"
   },
   {
    "duration": 3,
    "start_time": "2024-11-29T22:17:29.331Z"
   },
   {
    "duration": 12,
    "start_time": "2024-11-29T22:17:29.336Z"
   },
   {
    "duration": 7,
    "start_time": "2024-11-29T22:17:29.352Z"
   },
   {
    "duration": 6,
    "start_time": "2024-11-29T22:17:29.360Z"
   },
   {
    "duration": 52,
    "start_time": "2024-11-29T22:17:29.367Z"
   },
   {
    "duration": 329,
    "start_time": "2024-11-29T22:17:29.421Z"
   },
   {
    "duration": 303,
    "start_time": "2024-11-29T22:17:29.752Z"
   },
   {
    "duration": 385,
    "start_time": "2024-11-29T22:17:30.057Z"
   },
   {
    "duration": 322,
    "start_time": "2024-11-29T22:17:30.445Z"
   },
   {
    "duration": 350,
    "start_time": "2024-11-29T22:17:30.771Z"
   },
   {
    "duration": 514,
    "start_time": "2024-11-29T22:17:31.123Z"
   },
   {
    "duration": 206,
    "start_time": "2024-11-29T22:17:31.639Z"
   },
   {
    "duration": 12,
    "start_time": "2024-11-29T22:17:31.847Z"
   },
   {
    "duration": 13,
    "start_time": "2024-11-29T22:17:31.861Z"
   },
   {
    "duration": 343,
    "start_time": "2024-11-29T22:17:31.876Z"
   },
   {
    "duration": 891,
    "start_time": "2024-11-29T22:26:18.221Z"
   },
   {
    "duration": 12,
    "start_time": "2024-11-29T22:26:19.115Z"
   },
   {
    "duration": 17,
    "start_time": "2024-11-29T22:26:19.128Z"
   },
   {
    "duration": 6,
    "start_time": "2024-11-29T22:26:19.147Z"
   },
   {
    "duration": 3,
    "start_time": "2024-11-29T22:26:19.154Z"
   },
   {
    "duration": 7,
    "start_time": "2024-11-29T22:26:19.159Z"
   },
   {
    "duration": 4,
    "start_time": "2024-11-29T22:26:19.168Z"
   },
   {
    "duration": 4,
    "start_time": "2024-11-29T22:26:19.206Z"
   },
   {
    "duration": 3,
    "start_time": "2024-11-29T22:26:19.212Z"
   },
   {
    "duration": 11,
    "start_time": "2024-11-29T22:26:19.219Z"
   },
   {
    "duration": 7,
    "start_time": "2024-11-29T22:26:19.231Z"
   },
   {
    "duration": 3,
    "start_time": "2024-11-29T22:26:19.240Z"
   },
   {
    "duration": 201,
    "start_time": "2024-11-29T22:26:19.245Z"
   },
   {
    "duration": 189,
    "start_time": "2024-11-29T22:26:19.449Z"
   },
   {
    "duration": 164,
    "start_time": "2024-11-29T22:26:19.640Z"
   },
   {
    "duration": 309,
    "start_time": "2024-11-29T22:26:19.805Z"
   },
   {
    "duration": 6,
    "start_time": "2024-11-29T22:26:20.117Z"
   },
   {
    "duration": 4,
    "start_time": "2024-11-29T22:26:20.124Z"
   },
   {
    "duration": 15,
    "start_time": "2024-11-29T22:26:20.130Z"
   },
   {
    "duration": 8,
    "start_time": "2024-11-29T22:26:20.148Z"
   },
   {
    "duration": 4,
    "start_time": "2024-11-29T22:26:20.158Z"
   },
   {
    "duration": 176,
    "start_time": "2024-11-29T22:26:20.164Z"
   },
   {
    "duration": 154,
    "start_time": "2024-11-29T22:26:20.341Z"
   },
   {
    "duration": 86,
    "start_time": "2024-11-29T22:26:20.497Z"
   },
   {
    "duration": 295,
    "start_time": "2024-11-29T22:26:20.585Z"
   },
   {
    "duration": 10,
    "start_time": "2024-11-29T22:26:20.882Z"
   },
   {
    "duration": 4,
    "start_time": "2024-11-29T22:26:20.904Z"
   },
   {
    "duration": 2,
    "start_time": "2024-11-29T22:26:20.912Z"
   },
   {
    "duration": 11,
    "start_time": "2024-11-29T22:26:20.915Z"
   },
   {
    "duration": 6,
    "start_time": "2024-11-29T22:26:20.927Z"
   },
   {
    "duration": 5,
    "start_time": "2024-11-29T22:26:20.935Z"
   },
   {
    "duration": 14,
    "start_time": "2024-11-29T22:26:20.942Z"
   },
   {
    "duration": 358,
    "start_time": "2024-11-29T22:26:20.958Z"
   },
   {
    "duration": 265,
    "start_time": "2024-11-29T22:26:21.318Z"
   },
   {
    "duration": 329,
    "start_time": "2024-11-29T22:26:21.585Z"
   },
   {
    "duration": 341,
    "start_time": "2024-11-29T22:26:21.916Z"
   },
   {
    "duration": 336,
    "start_time": "2024-11-29T22:26:22.259Z"
   },
   {
    "duration": 536,
    "start_time": "2024-11-29T22:26:22.597Z"
   },
   {
    "duration": 211,
    "start_time": "2024-11-29T22:26:23.135Z"
   },
   {
    "duration": 12,
    "start_time": "2024-11-29T22:26:23.348Z"
   },
   {
    "duration": 12,
    "start_time": "2024-11-29T22:26:23.362Z"
   },
   {
    "duration": 329,
    "start_time": "2024-11-29T22:26:23.376Z"
   },
   {
    "duration": 872,
    "start_time": "2024-11-29T22:49:26.729Z"
   },
   {
    "duration": 13,
    "start_time": "2024-11-29T22:49:27.604Z"
   },
   {
    "duration": 15,
    "start_time": "2024-11-29T22:49:27.619Z"
   },
   {
    "duration": 6,
    "start_time": "2024-11-29T22:49:27.636Z"
   },
   {
    "duration": 3,
    "start_time": "2024-11-29T22:49:27.643Z"
   },
   {
    "duration": 7,
    "start_time": "2024-11-29T22:49:27.647Z"
   },
   {
    "duration": 4,
    "start_time": "2024-11-29T22:49:27.656Z"
   },
   {
    "duration": 4,
    "start_time": "2024-11-29T22:49:27.662Z"
   },
   {
    "duration": 38,
    "start_time": "2024-11-29T22:49:27.667Z"
   },
   {
    "duration": 13,
    "start_time": "2024-11-29T22:49:27.710Z"
   },
   {
    "duration": 7,
    "start_time": "2024-11-29T22:49:27.724Z"
   },
   {
    "duration": 4,
    "start_time": "2024-11-29T22:49:27.733Z"
   },
   {
    "duration": 197,
    "start_time": "2024-11-29T22:49:27.738Z"
   },
   {
    "duration": 176,
    "start_time": "2024-11-29T22:49:27.937Z"
   },
   {
    "duration": 157,
    "start_time": "2024-11-29T22:49:28.115Z"
   },
   {
    "duration": 261,
    "start_time": "2024-11-29T22:49:28.274Z"
   },
   {
    "duration": 5,
    "start_time": "2024-11-29T22:49:28.537Z"
   },
   {
    "duration": 4,
    "start_time": "2024-11-29T22:49:28.544Z"
   },
   {
    "duration": 11,
    "start_time": "2024-11-29T22:49:28.550Z"
   },
   {
    "duration": 7,
    "start_time": "2024-11-29T22:49:28.563Z"
   },
   {
    "duration": 3,
    "start_time": "2024-11-29T22:49:28.572Z"
   },
   {
    "duration": 143,
    "start_time": "2024-11-29T22:49:28.605Z"
   },
   {
    "duration": 148,
    "start_time": "2024-11-29T22:49:28.750Z"
   },
   {
    "duration": 86,
    "start_time": "2024-11-29T22:49:28.905Z"
   },
   {
    "duration": 288,
    "start_time": "2024-11-29T22:49:28.993Z"
   },
   {
    "duration": 10,
    "start_time": "2024-11-29T22:49:29.283Z"
   },
   {
    "duration": 13,
    "start_time": "2024-11-29T22:49:29.294Z"
   },
   {
    "duration": 2,
    "start_time": "2024-11-29T22:49:29.312Z"
   },
   {
    "duration": 12,
    "start_time": "2024-11-29T22:49:29.316Z"
   },
   {
    "duration": 8,
    "start_time": "2024-11-29T22:49:29.330Z"
   },
   {
    "duration": 7,
    "start_time": "2024-11-29T22:49:29.340Z"
   },
   {
    "duration": 15,
    "start_time": "2024-11-29T22:49:29.349Z"
   },
   {
    "duration": 351,
    "start_time": "2024-11-29T22:49:29.366Z"
   },
   {
    "duration": 266,
    "start_time": "2024-11-29T22:49:29.720Z"
   },
   {
    "duration": 337,
    "start_time": "2024-11-29T22:49:29.988Z"
   },
   {
    "duration": 331,
    "start_time": "2024-11-29T22:49:30.327Z"
   },
   {
    "duration": 318,
    "start_time": "2024-11-29T22:49:30.660Z"
   },
   {
    "duration": 487,
    "start_time": "2024-11-29T22:49:30.980Z"
   },
   {
    "duration": 191,
    "start_time": "2024-11-29T22:49:31.469Z"
   },
   {
    "duration": 12,
    "start_time": "2024-11-29T22:49:31.661Z"
   },
   {
    "duration": 32,
    "start_time": "2024-11-29T22:49:31.675Z"
   },
   {
    "duration": 333,
    "start_time": "2024-11-29T22:49:31.709Z"
   }
  ],
  "kernelspec": {
   "display_name": "Python 3 (ipykernel)",
   "language": "python",
   "name": "python3"
  },
  "language_info": {
   "codemirror_mode": {
    "name": "ipython",
    "version": 3
   },
   "file_extension": ".py",
   "mimetype": "text/x-python",
   "name": "python",
   "nbconvert_exporter": "python",
   "pygments_lexer": "ipython3",
   "version": "3.9.19"
  },
  "toc": {
   "base_numbering": 1,
   "nav_menu": {},
   "number_sections": true,
   "sideBar": true,
   "skip_h1_title": true,
   "title_cell": "Table of Contents",
   "title_sidebar": "Contents",
   "toc_cell": false,
   "toc_position": {
    "height": "calc(100% - 180px)",
    "left": "10px",
    "top": "150px",
    "width": "246.179px"
   },
   "toc_section_display": true,
   "toc_window_display": true
  }
 },
 "nbformat": 4,
 "nbformat_minor": 2
}
